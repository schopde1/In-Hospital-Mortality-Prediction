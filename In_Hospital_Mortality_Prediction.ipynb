{
  "nbformat": 4,
  "nbformat_minor": 0,
  "metadata": {
    "colab": {
      "name": "In_Hospital_Mortality_Prediction.ipynb",
      "provenance": [],
      "collapsed_sections": [],
      "toc_visible": true
    },
    "kernelspec": {
      "name": "python3",
      "display_name": "Python 3"
    },
    "language_info": {
      "name": "python"
    }
  },
  "cells": [
    {
      "cell_type": "code",
      "execution_count": null,
      "metadata": {
        "id": "Y95-nmbLKFus"
      },
      "outputs": [],
      "source": [
        "#In Hospital Mortality Prediction\n",
        "#Sylvia Chopde\n",
        "#Importing all important libraries required for our project\n",
        "import numpy as np\n",
        "import matplotlib.pyplot as plt\n",
        "import sklearn\n",
        "import pandas as pd\n",
        "from sklearn.model_selection import train_test_split # data split\n",
        "from sklearn.tree import DecisionTreeClassifier # Decision tree algorithm\n",
        "from sklearn.neighbors import KNeighborsClassifier # KNN algorithm\n",
        "from sklearn.linear_model import LogisticRegression # Logistic regression algorithm\n",
        "from sklearn.svm import SVC # SVM algorithm\n",
        "from sklearn.ensemble import RandomForestClassifier # Random forest tree algorithm\n",
        "from sklearn.metrics import confusion_matrix # evaluation metric\n",
        "from sklearn.metrics import accuracy_score # evaluation metric\n",
        "from sklearn.metrics import f1_score # evaluation metric\n",
        "import sklearn.metrics  as metrics\n",
        "sklearn.set_config(print_changed_only=True)"
      ]
    },
    {
      "cell_type": "code",
      "source": [
        "#Reading the CSV File\n",
        "df = pd.read_csv('Inhospital.csv')"
      ],
      "metadata": {
        "id": "WHXru8_HKR2o"
      },
      "execution_count": null,
      "outputs": []
    },
    {
      "cell_type": "code",
      "source": [
        "#Checking dimension of our data\n",
        "df.shape"
      ],
      "metadata": {
        "colab": {
          "base_uri": "https://localhost:8080/"
        },
        "id": "TiVtMw_yKpcT",
        "outputId": "150afbff-fa52-472f-ce8f-caca7953fedd"
      },
      "execution_count": null,
      "outputs": [
        {
          "output_type": "execute_result",
          "data": {
            "text/plain": [
              "(1177, 51)"
            ]
          },
          "metadata": {},
          "execution_count": 3
        }
      ]
    },
    {
      "cell_type": "code",
      "source": [
        "#Checking the dataset\n",
        "df.describe"
      ],
      "metadata": {
        "colab": {
          "base_uri": "https://localhost:8080/"
        },
        "id": "pli06-ZLoly4",
        "outputId": "703db08e-a8ce-4fb2-8312-45850b6f4883"
      },
      "execution_count": null,
      "outputs": [
        {
          "output_type": "execute_result",
          "data": {
            "text/plain": [
              "<bound method NDFrame.describe of       group      ID  outcome  age  ...  Bicarbonate  Lactic acid  PCO2  EF\n",
              "0         1  125047        0   72  ...    21.166667          0.5  40.0  55\n",
              "1         1  139812        0   75  ...    33.444444          0.5  78.0  55\n",
              "2         1  109787        0   83  ...    30.571429          0.5  71.5  35\n",
              "3         1  130587        0   43  ...    38.571429          0.6  75.0  55\n",
              "4         1  138290        0   75  ...    22.000000          0.6  50.0  55\n",
              "...     ...     ...      ...  ...  ...          ...          ...   ...  ..\n",
              "1172      2  171130        0   62  ...    27.714286          NaN   NaN  40\n",
              "1173      2  101659        0   78  ...    20.480000          NaN   NaN  30\n",
              "1174      2  162069        0   85  ...    28.857143          NaN   NaN  55\n",
              "1175      2  120967        0   79  ...    24.375000          NaN   NaN  25\n",
              "1176      2  107636        0   47  ...    26.571429          NaN   NaN  55\n",
              "\n",
              "[1177 rows x 51 columns]>"
            ]
          },
          "metadata": {},
          "execution_count": 4
        }
      ]
    },
    {
      "cell_type": "code",
      "source": [
        "X = df.drop(columns='outcome')\n",
        "y = df[['outcome']]"
      ],
      "metadata": {
        "id": "NfVilWrIPAVm"
      },
      "execution_count": null,
      "outputs": []
    },
    {
      "cell_type": "code",
      "source": [
        "X.shape"
      ],
      "metadata": {
        "colab": {
          "base_uri": "https://localhost:8080/"
        },
        "id": "S3ejgpQAokQn",
        "outputId": "ee2196be-85c1-4649-d210-a8029e292dfa"
      },
      "execution_count": null,
      "outputs": [
        {
          "output_type": "execute_result",
          "data": {
            "text/plain": [
              "(1177, 50)"
            ]
          },
          "metadata": {},
          "execution_count": 6
        }
      ]
    },
    {
      "cell_type": "code",
      "source": [
        "y.shape"
      ],
      "metadata": {
        "colab": {
          "base_uri": "https://localhost:8080/"
        },
        "id": "iyVg5bbMPGBB",
        "outputId": "60f05b54-648e-4aa7-ac79-235c7af18d08"
      },
      "execution_count": null,
      "outputs": [
        {
          "output_type": "execute_result",
          "data": {
            "text/plain": [
              "(1177, 1)"
            ]
          },
          "metadata": {},
          "execution_count": 7
        }
      ]
    },
    {
      "cell_type": "code",
      "source": [
        "#Checking for missing or null value in our dataset\n",
        "df.isnull().sum()"
      ],
      "metadata": {
        "id": "rhyXf9STLswU",
        "colab": {
          "base_uri": "https://localhost:8080/"
        },
        "outputId": "0c357fb3-1d9e-4398-87fb-603ecc343982"
      },
      "execution_count": null,
      "outputs": [
        {
          "output_type": "execute_result",
          "data": {
            "text/plain": [
              "group                         0\n",
              "ID                            0\n",
              "outcome                       0\n",
              "age                           0\n",
              "gendera                       0\n",
              "BMI                         215\n",
              "hypertensive                  0\n",
              "atrialfibrillation            0\n",
              "CHD with no MI                0\n",
              "diabetes                      0\n",
              "deficiencyanemias             0\n",
              "depression                    0\n",
              "Hyperlipemia                  0\n",
              "Renal failure                 0\n",
              "COPD                          0\n",
              "heart rate                   13\n",
              "Systolic blood pressure      16\n",
              "Diastolic blood pressure     16\n",
              "Respiratory rate             13\n",
              "temperature                  19\n",
              "SP O2                        13\n",
              "Urine output                 36\n",
              "hematocrit                    0\n",
              "RBC                           0\n",
              "MCH                           0\n",
              "MCHC                          0\n",
              "MCV                           0\n",
              "RDW                           0\n",
              "Leucocyte                     0\n",
              "Platelets                     0\n",
              "Neutrophils                 144\n",
              "Basophils                   259\n",
              "Lymphocyte                  145\n",
              "PT                           20\n",
              "INR                          20\n",
              "NT-proBNP                     0\n",
              "Creatine kinase             165\n",
              "Creatinine                    0\n",
              "Urea nitrogen                 0\n",
              "glucose                      18\n",
              "Blood potassium               0\n",
              "Blood sodium                  0\n",
              "Blood calcium                 1\n",
              "Chloride                      0\n",
              "Anion gap                     0\n",
              "Magnesium ion                 0\n",
              "PH                          292\n",
              "Bicarbonate                   0\n",
              "Lactic acid                 229\n",
              "PCO2                        294\n",
              "EF                            0\n",
              "dtype: int64"
            ]
          },
          "metadata": {},
          "execution_count": 8
        }
      ]
    },
    {
      "cell_type": "code",
      "source": [
        "#Use SimpleImputer to replace missing or null value with Mean of the column\n",
        "from sklearn.impute import SimpleImputer\n",
        "si = SimpleImputer(missing_values=np.nan, strategy='mean')"
      ],
      "metadata": {
        "id": "6Be9FnFSL1Ni"
      },
      "execution_count": null,
      "outputs": []
    },
    {
      "cell_type": "code",
      "source": [
        "col = X.select_dtypes(include='float64').columns\n",
        "col"
      ],
      "metadata": {
        "id": "sJFZu34IL81X",
        "colab": {
          "base_uri": "https://localhost:8080/"
        },
        "outputId": "206aef6e-1564-4daa-8641-4d90be491f65"
      },
      "execution_count": null,
      "outputs": [
        {
          "output_type": "execute_result",
          "data": {
            "text/plain": [
              "Index(['BMI', 'heart rate', 'Systolic blood pressure',\n",
              "       'Diastolic blood pressure', 'Respiratory rate', 'temperature', 'SP O2',\n",
              "       'Urine output', 'hematocrit', 'RBC', 'MCH', 'MCHC', 'MCV', 'RDW',\n",
              "       'Leucocyte', 'Platelets', 'Neutrophils', 'Basophils', 'Lymphocyte',\n",
              "       'PT', 'INR', 'NT-proBNP', 'Creatine kinase', 'Creatinine',\n",
              "       'Urea nitrogen', 'glucose', 'Blood potassium', 'Blood sodium',\n",
              "       'Blood calcium', 'Chloride', 'Anion gap', 'Magnesium ion', 'PH',\n",
              "       'Bicarbonate', 'Lactic acid', 'PCO2'],\n",
              "      dtype='object')"
            ]
          },
          "metadata": {},
          "execution_count": 10
        }
      ]
    },
    {
      "cell_type": "code",
      "source": [
        "si.fit(X[col])"
      ],
      "metadata": {
        "colab": {
          "base_uri": "https://localhost:8080/"
        },
        "id": "6wG8jLVzNczB",
        "outputId": "8632df62-88e7-4c52-82e8-60b6876899a8"
      },
      "execution_count": null,
      "outputs": [
        {
          "output_type": "execute_result",
          "data": {
            "text/plain": [
              "SimpleImputer()"
            ]
          },
          "metadata": {},
          "execution_count": 11
        }
      ]
    },
    {
      "cell_type": "code",
      "source": [
        "#Confirming if all Null and missing  values are removed\n",
        "X[col] = si.transform(X[col])\n",
        "X.info()"
      ],
      "metadata": {
        "id": "G6cJhwDoQPNG"
      },
      "execution_count": null,
      "outputs": []
    },
    {
      "cell_type": "code",
      "source": [
        "df = X.copy()\n",
        "\n",
        "df['outcome'] = y"
      ],
      "metadata": {
        "id": "jW0o_rQlQbEw"
      },
      "execution_count": null,
      "outputs": []
    },
    {
      "cell_type": "code",
      "source": [
        "predictors = df.columns"
      ],
      "metadata": {
        "id": "30Amc1SIQmWU"
      },
      "execution_count": null,
      "outputs": []
    },
    {
      "cell_type": "code",
      "source": [
        "df['outcome'].value_counts().plot(kind='bar', title='Frequency of Deaths', xlabel='Heart Failure', ylabel='frequency')"
      ],
      "metadata": {
        "colab": {
          "base_uri": "https://localhost:8080/",
          "height": 310
        },
        "id": "r1JnYeCpJIAO",
        "outputId": "8d94690a-3213-4bce-be1c-b006b2f1c050"
      },
      "execution_count": null,
      "outputs": [
        {
          "output_type": "execute_result",
          "data": {
            "text/plain": [
              "<matplotlib.axes._subplots.AxesSubplot at 0x7fa3274a8910>"
            ]
          },
          "metadata": {},
          "execution_count": 15
        },
        {
          "output_type": "display_data",
          "data": {
            "image/png": "[encoded data removed]",
            "text/plain": [
              "<Figure size 432x288 with 1 Axes>"
            ]
          },
          "metadata": {
            "needs_background": "light"
          }
        }
      ]
    },
    {
      "cell_type": "code",
      "source": [
        "#Relation of each feature with the outcome\n",
        "import seaborn as sns\n",
        "\n",
        "fig, axes = plt.subplots(nrows=10, ncols=5, figsize=(20,40))\n",
        "axes = axes.flatten()\n",
        "\n",
        "for idx, axis in enumerate(axes):\n",
        "    sns.histplot(data=df, x=df[predictors].iloc[:, idx],\n",
        "                 ax=axis, hue='outcome', legend=True)\n",
        "    axis.set_ylabel('')    \n",
        "    axis.set_xlabel('')\n",
        "    axis.set_title(predictors[idx])"
      ],
      "metadata": {
        "colab": {
          "base_uri": "https://localhost:8080/",
          "height": 1000
        },
        "id": "Q3OxtMcaNCn7",
        "outputId": "9674fa1b-32c8-41f9-96c2-5bcc507cdb9e"
      },
      "execution_count": null,
      "outputs": [
        {
          "output_type": "display_data",
          "data": {
            "image/png": "[encoded data removed]",
            "text/plain": [
              "<Figure size 1440x2880 with 50 Axes>"
            ]
          },
          "metadata": {
            "needs_background": "light"
          }
        }
      ]
    },
    {
      "cell_type": "code",
      "source": [
        "#Scaling the data to bring the data set value in a range\n",
        "from sklearn.preprocessing import StandardScaler\n",
        "features = ['age', 'gendera', 'BMI', 'hypertensive',\n",
        "       'atrialfibrillation', 'CHD with no MI', 'diabetes', 'deficiencyanemias',\n",
        "       'depression', 'Hyperlipemia', 'Renal failure', 'COPD', 'heart rate',\n",
        "       'Systolic blood pressure', 'Diastolic blood pressure',\n",
        "       'Respiratory rate', 'temperature', 'SP O2', 'Urine output',\n",
        "       'hematocrit', 'RBC', 'MCH', 'MCHC', 'MCV', 'RDW', 'Leucocyte',\n",
        "       'Platelets', 'Neutrophils', 'Basophils', 'Lymphocyte', 'PT', 'INR',\n",
        "       'NT-proBNP', 'Creatine kinase', 'Creatinine', 'Urea nitrogen',\n",
        "       'glucose', 'Blood potassium', 'Blood sodium', 'Blood calcium',\n",
        "       'Chloride', 'Anion gap', 'Magnesium ion', 'PH', 'Bicarbonate',\n",
        "       'Lactic acid', 'PCO2', 'EF']\n",
        "\n",
        "X = df.loc[:, features].values\n",
        "y = df.loc[:, ['outcome']].values\n",
        "\n",
        "X= StandardScaler().fit_transform(X)\n",
        "X\n"
      ],
      "metadata": {
        "id": "JEDWtC-ZQtWv",
        "colab": {
          "base_uri": "https://localhost:8080/"
        },
        "outputId": "3e6feeb1-f9d8-4ce5-f58c-9c5032413629"
      },
      "execution_count": null,
      "outputs": [
        {
          "output_type": "execute_result",
          "data": {
            "text/plain": [
              "array([[-1.53051175e-01, -1.05144929e+00,  8.78126737e-01, ...,\n",
              "        -1.53367151e+00, -5.03051659e-01,  4.88582562e-01],\n",
              "       [ 7.03567204e-02,  9.51068212e-01,  8.43182238e-16, ...,\n",
              "        -1.53367151e+00,  2.95036164e+00,  4.88582562e-01],\n",
              "       [ 6.66111108e-01,  9.51068212e-01, -4.29058877e-01, ...,\n",
              "        -1.53367151e+00,  2.35964621e+00, -1.06626853e+00],\n",
              "       ...,\n",
              "       [ 8.15049705e-01,  9.51068212e-01, -7.47188765e-01, ...,\n",
              "        -2.51615968e-16, -6.45736246e-16,  4.88582562e-01],\n",
              "       [ 3.68233914e-01,  9.51068212e-01,  6.05236226e-01, ...,\n",
              "        -2.51615968e-16, -6.45736246e-16, -1.84369407e+00],\n",
              "       [-2.01478364e+00, -1.05144929e+00, -8.38609530e-01, ...,\n",
              "        -2.51615968e-16, -6.45736246e-16,  4.88582562e-01]])"
            ]
          },
          "metadata": {},
          "execution_count": 17
        }
      ]
    },
    {
      "cell_type": "code",
      "source": [
        "#Performing Principle Component Analysis for Dimensionality Reduction\n",
        "from sklearn.decomposition import PCA\n",
        "pca = PCA(n_components= 0.95)\n",
        "principalComponents = pca.fit(X)\n",
        "reduced = pca.transform(X)"
      ],
      "metadata": {
        "id": "50_YXyPpQ_NP"
      },
      "execution_count": null,
      "outputs": []
    },
    {
      "cell_type": "code",
      "source": [
        "#Checking Variance ratio\n",
        "pca.explained_variance_ratio_"
      ],
      "metadata": {
        "colab": {
          "base_uri": "https://localhost:8080/"
        },
        "id": "P_HHPuEGazEh",
        "outputId": "fdd519b3-6772-4788-8cfb-b29bdcc484e2"
      },
      "execution_count": null,
      "outputs": [
        {
          "output_type": "execute_result",
          "data": {
            "text/plain": [
              "array([0.08830989, 0.06721636, 0.05912792, 0.05329431, 0.04892963,\n",
              "       0.04602298, 0.04006869, 0.03658908, 0.03391873, 0.03050901,\n",
              "       0.02824603, 0.02737356, 0.02596515, 0.02402342, 0.02231771,\n",
              "       0.02106905, 0.02022316, 0.0199599 , 0.01918811, 0.01859139,\n",
              "       0.01831848, 0.01786723, 0.01695723, 0.01608683, 0.01573639,\n",
              "       0.01508186, 0.01437699, 0.0142098 , 0.01338551, 0.0129462 ,\n",
              "       0.01205193, 0.01174581, 0.0111773 , 0.01080124, 0.01046407,\n",
              "       0.01010764])"
            ]
          },
          "metadata": {},
          "execution_count": 19
        }
      ]
    },
    {
      "cell_type": "code",
      "source": [
        "#Plot to see 95% threshold and 36 Principal Components\n",
        "% matplotlib inline\n",
        "import matplotlib.pyplot as plt\n",
        "plt.rcParams[\"figure.figsize\"] = (12,6)\n",
        "\n",
        "fig, ax = plt.subplots()\n",
        "xi = np.arange(1, 37, step=1)\n",
        "y = np.cumsum(pca.explained_variance_ratio_)\n",
        "\n",
        "plt.ylim(0.0,1.1)\n",
        "plt.plot(xi, y, marker='o', linestyle='--', color='b')\n",
        "\n",
        "plt.xlabel('Number of Components')\n",
        "plt.xticks(np.arange(0, 51, step=1)) #change from 0-based array index to 1-based human-readable label\n",
        "plt.ylabel('Cumulative variance (%)')\n",
        "plt.title('The number of components needed to explain variance')\n",
        "\n",
        "plt.axhline(y=0.95, color='r', linestyle='-')\n",
        "plt.text(0.5, 0.85, '95% cut-off threshold', color = 'red', fontsize=16)\n",
        "\n",
        "ax.grid(axis='x')\n",
        "plt.show()"
      ],
      "metadata": {
        "colab": {
          "base_uri": "https://localhost:8080/",
          "height": 404
        },
        "id": "G4JR6SFQdWQH",
        "outputId": "46ff486f-9424-479b-8ec2-7f3121588ebd"
      },
      "execution_count": null,
      "outputs": [
        {
          "output_type": "display_data",
          "data": {
            "image/png": "[encoded data removed]",
            "text/plain": [
              "<Figure size 864x432 with 1 Axes>"
            ]
          },
          "metadata": {
            "needs_background": "light"
          }
        }
      ]
    },
    {
      "cell_type": "code",
      "source": [
        "#Naming all components and converting to Dataframe\n",
        "principalDf = pd.DataFrame(data = reduced, columns = ['PC1', 'PC2', 'PC3', 'PC4', 'PC5', 'PC6', 'PC7', 'PC8','PC9','PC10','PC11','PC12','PC13','PC14','PC15','PC16','PC17','PC18','PC19','PC20','PC21','PC22','PC23','PC24','PC25','PC26','PC27','PC28','PC29','PC30','PC31','PC32','PC33','PC34','PC35','PC36'])\n",
        "principalDf\n"
      ],
      "metadata": {
        "id": "WYTd2ve3SCwB",
        "colab": {
          "base_uri": "https://localhost:8080/",
          "height": 487
        },
        "outputId": "c8d00b1b-6cd5-4141-9e81-6a31cd53c4be"
      },
      "execution_count": null,
      "outputs": [
        {
          "output_type": "execute_result",
          "data": {
            "text/html": [
              "\n",
              "  <div id=\"df-41e59a23-5e70-4d0d-baf1-479c3d7705c9\">\n",
              "    <div class=\"colab-df-container\">\n",
              "      <div>\n",
              "<style scoped>\n",
              "    .dataframe tbody tr th:only-of-type {\n",
              "        vertical-align: middle;\n",
              "    }\n",
              "\n",
              "    .dataframe tbody tr th {\n",
              "        vertical-align: top;\n",
              "    }\n",
              "\n",
              "    .dataframe thead th {\n",
              "        text-align: right;\n",
              "    }\n",
              "</style>\n",
              "<table border=\"1\" class=\"dataframe\">\n",
              "  <thead>\n",
              "    <tr style=\"text-align: right;\">\n",
              "      <th></th>\n",
              "      <th>PC1</th>\n",
              "      <th>PC2</th>\n",
              "      <th>PC3</th>\n",
              "      <th>PC4</th>\n",
              "      <th>PC5</th>\n",
              "      <th>PC6</th>\n",
              "      <th>PC7</th>\n",
              "      <th>PC8</th>\n",
              "      <th>PC9</th>\n",
              "      <th>PC10</th>\n",
              "      <th>PC11</th>\n",
              "      <th>PC12</th>\n",
              "      <th>PC13</th>\n",
              "      <th>PC14</th>\n",
              "      <th>PC15</th>\n",
              "      <th>PC16</th>\n",
              "      <th>PC17</th>\n",
              "      <th>PC18</th>\n",
              "      <th>PC19</th>\n",
              "      <th>PC20</th>\n",
              "      <th>PC21</th>\n",
              "      <th>PC22</th>\n",
              "      <th>PC23</th>\n",
              "      <th>PC24</th>\n",
              "      <th>PC25</th>\n",
              "      <th>PC26</th>\n",
              "      <th>PC27</th>\n",
              "      <th>PC28</th>\n",
              "      <th>PC29</th>\n",
              "      <th>PC30</th>\n",
              "      <th>PC31</th>\n",
              "      <th>PC32</th>\n",
              "      <th>PC33</th>\n",
              "      <th>PC34</th>\n",
              "      <th>PC35</th>\n",
              "      <th>PC36</th>\n",
              "    </tr>\n",
              "  </thead>\n",
              "  <tbody>\n",
              "    <tr>\n",
              "      <th>0</th>\n",
              "      <td>-1.260818</td>\n",
              "      <td>-0.485669</td>\n",
              "      <td>-3.325406</td>\n",
              "      <td>-0.238478</td>\n",
              "      <td>1.359856</td>\n",
              "      <td>-1.099748</td>\n",
              "      <td>0.552645</td>\n",
              "      <td>-1.529641</td>\n",
              "      <td>0.707283</td>\n",
              "      <td>-0.540545</td>\n",
              "      <td>-0.393627</td>\n",
              "      <td>0.955293</td>\n",
              "      <td>-0.216392</td>\n",
              "      <td>-0.160608</td>\n",
              "      <td>-2.262250</td>\n",
              "      <td>1.500197</td>\n",
              "      <td>-0.432989</td>\n",
              "      <td>0.031286</td>\n",
              "      <td>-1.688256</td>\n",
              "      <td>0.534803</td>\n",
              "      <td>0.040327</td>\n",
              "      <td>-0.883612</td>\n",
              "      <td>2.513644</td>\n",
              "      <td>0.075094</td>\n",
              "      <td>-0.862392</td>\n",
              "      <td>1.222642</td>\n",
              "      <td>-0.700565</td>\n",
              "      <td>-0.973465</td>\n",
              "      <td>-0.400105</td>\n",
              "      <td>-0.842577</td>\n",
              "      <td>0.380724</td>\n",
              "      <td>0.235045</td>\n",
              "      <td>-1.174300</td>\n",
              "      <td>-1.540294</td>\n",
              "      <td>0.216495</td>\n",
              "      <td>0.184691</td>\n",
              "    </tr>\n",
              "    <tr>\n",
              "      <th>1</th>\n",
              "      <td>2.426649</td>\n",
              "      <td>-0.382961</td>\n",
              "      <td>-1.305080</td>\n",
              "      <td>-1.905398</td>\n",
              "      <td>0.142353</td>\n",
              "      <td>0.140150</td>\n",
              "      <td>4.480825</td>\n",
              "      <td>-0.120617</td>\n",
              "      <td>-0.567277</td>\n",
              "      <td>0.046319</td>\n",
              "      <td>0.871165</td>\n",
              "      <td>-0.591779</td>\n",
              "      <td>-1.302798</td>\n",
              "      <td>-1.618065</td>\n",
              "      <td>-1.325237</td>\n",
              "      <td>0.992334</td>\n",
              "      <td>1.241088</td>\n",
              "      <td>1.198364</td>\n",
              "      <td>0.293832</td>\n",
              "      <td>-0.574453</td>\n",
              "      <td>-0.456202</td>\n",
              "      <td>-0.986048</td>\n",
              "      <td>0.240564</td>\n",
              "      <td>-0.501325</td>\n",
              "      <td>1.174609</td>\n",
              "      <td>1.109076</td>\n",
              "      <td>0.973863</td>\n",
              "      <td>-0.076719</td>\n",
              "      <td>-0.753193</td>\n",
              "      <td>0.193734</td>\n",
              "      <td>-0.345022</td>\n",
              "      <td>-0.297207</td>\n",
              "      <td>-0.822981</td>\n",
              "      <td>0.232641</td>\n",
              "      <td>0.168637</td>\n",
              "      <td>-0.161019</td>\n",
              "    </tr>\n",
              "    <tr>\n",
              "      <th>2</th>\n",
              "      <td>-0.120617</td>\n",
              "      <td>-0.953992</td>\n",
              "      <td>-4.439008</td>\n",
              "      <td>-0.582433</td>\n",
              "      <td>0.897338</td>\n",
              "      <td>1.807014</td>\n",
              "      <td>4.069468</td>\n",
              "      <td>-0.424748</td>\n",
              "      <td>-1.133254</td>\n",
              "      <td>-0.634001</td>\n",
              "      <td>0.646284</td>\n",
              "      <td>-2.438506</td>\n",
              "      <td>-0.437649</td>\n",
              "      <td>0.634891</td>\n",
              "      <td>-0.596140</td>\n",
              "      <td>0.633992</td>\n",
              "      <td>0.336007</td>\n",
              "      <td>0.732401</td>\n",
              "      <td>-2.891366</td>\n",
              "      <td>0.477488</td>\n",
              "      <td>0.821414</td>\n",
              "      <td>0.127720</td>\n",
              "      <td>0.418659</td>\n",
              "      <td>1.665733</td>\n",
              "      <td>-1.074250</td>\n",
              "      <td>0.208515</td>\n",
              "      <td>0.325334</td>\n",
              "      <td>-1.588942</td>\n",
              "      <td>-0.716062</td>\n",
              "      <td>0.440785</td>\n",
              "      <td>1.148780</td>\n",
              "      <td>-0.873514</td>\n",
              "      <td>-1.019402</td>\n",
              "      <td>0.803182</td>\n",
              "      <td>1.791321</td>\n",
              "      <td>1.541882</td>\n",
              "    </tr>\n",
              "    <tr>\n",
              "      <th>3</th>\n",
              "      <td>6.239829</td>\n",
              "      <td>4.821519</td>\n",
              "      <td>-1.286159</td>\n",
              "      <td>-0.118957</td>\n",
              "      <td>1.161359</td>\n",
              "      <td>0.570976</td>\n",
              "      <td>2.272085</td>\n",
              "      <td>0.991092</td>\n",
              "      <td>2.598580</td>\n",
              "      <td>-2.273435</td>\n",
              "      <td>0.206142</td>\n",
              "      <td>2.264970</td>\n",
              "      <td>-0.615867</td>\n",
              "      <td>1.759982</td>\n",
              "      <td>0.477059</td>\n",
              "      <td>-0.022454</td>\n",
              "      <td>-1.332490</td>\n",
              "      <td>0.825220</td>\n",
              "      <td>0.211073</td>\n",
              "      <td>-0.664121</td>\n",
              "      <td>0.896998</td>\n",
              "      <td>2.416117</td>\n",
              "      <td>0.800793</td>\n",
              "      <td>1.759915</td>\n",
              "      <td>1.368527</td>\n",
              "      <td>-1.178228</td>\n",
              "      <td>-0.698518</td>\n",
              "      <td>-1.939761</td>\n",
              "      <td>-1.110278</td>\n",
              "      <td>1.758944</td>\n",
              "      <td>0.313117</td>\n",
              "      <td>-0.136262</td>\n",
              "      <td>-0.507487</td>\n",
              "      <td>0.710103</td>\n",
              "      <td>-0.731103</td>\n",
              "      <td>-1.343855</td>\n",
              "    </tr>\n",
              "    <tr>\n",
              "      <th>4</th>\n",
              "      <td>-0.628400</td>\n",
              "      <td>-0.410104</td>\n",
              "      <td>-2.494439</td>\n",
              "      <td>-0.218789</td>\n",
              "      <td>0.001035</td>\n",
              "      <td>-0.908969</td>\n",
              "      <td>1.199950</td>\n",
              "      <td>-0.372447</td>\n",
              "      <td>0.065107</td>\n",
              "      <td>-0.504127</td>\n",
              "      <td>1.061061</td>\n",
              "      <td>0.870004</td>\n",
              "      <td>-1.473424</td>\n",
              "      <td>-2.425111</td>\n",
              "      <td>-1.648690</td>\n",
              "      <td>1.773654</td>\n",
              "      <td>0.969155</td>\n",
              "      <td>1.617150</td>\n",
              "      <td>0.246575</td>\n",
              "      <td>-0.198227</td>\n",
              "      <td>0.210247</td>\n",
              "      <td>0.053949</td>\n",
              "      <td>-1.008958</td>\n",
              "      <td>0.636220</td>\n",
              "      <td>2.392919</td>\n",
              "      <td>0.301822</td>\n",
              "      <td>0.575516</td>\n",
              "      <td>-1.205862</td>\n",
              "      <td>-1.851357</td>\n",
              "      <td>2.477328</td>\n",
              "      <td>0.174687</td>\n",
              "      <td>-0.504695</td>\n",
              "      <td>-0.303108</td>\n",
              "      <td>0.100452</td>\n",
              "      <td>0.260741</td>\n",
              "      <td>0.311335</td>\n",
              "    </tr>\n",
              "    <tr>\n",
              "      <th>...</th>\n",
              "      <td>...</td>\n",
              "      <td>...</td>\n",
              "      <td>...</td>\n",
              "      <td>...</td>\n",
              "      <td>...</td>\n",
              "      <td>...</td>\n",
              "      <td>...</td>\n",
              "      <td>...</td>\n",
              "      <td>...</td>\n",
              "      <td>...</td>\n",
              "      <td>...</td>\n",
              "      <td>...</td>\n",
              "      <td>...</td>\n",
              "      <td>...</td>\n",
              "      <td>...</td>\n",
              "      <td>...</td>\n",
              "      <td>...</td>\n",
              "      <td>...</td>\n",
              "      <td>...</td>\n",
              "      <td>...</td>\n",
              "      <td>...</td>\n",
              "      <td>...</td>\n",
              "      <td>...</td>\n",
              "      <td>...</td>\n",
              "      <td>...</td>\n",
              "      <td>...</td>\n",
              "      <td>...</td>\n",
              "      <td>...</td>\n",
              "      <td>...</td>\n",
              "      <td>...</td>\n",
              "      <td>...</td>\n",
              "      <td>...</td>\n",
              "      <td>...</td>\n",
              "      <td>...</td>\n",
              "      <td>...</td>\n",
              "      <td>...</td>\n",
              "    </tr>\n",
              "    <tr>\n",
              "      <th>1172</th>\n",
              "      <td>-2.863191</td>\n",
              "      <td>4.407597</td>\n",
              "      <td>-3.273102</td>\n",
              "      <td>2.657212</td>\n",
              "      <td>-2.194036</td>\n",
              "      <td>-2.246513</td>\n",
              "      <td>-0.073110</td>\n",
              "      <td>0.571364</td>\n",
              "      <td>-0.598061</td>\n",
              "      <td>-2.029706</td>\n",
              "      <td>1.544013</td>\n",
              "      <td>-2.025750</td>\n",
              "      <td>-0.894599</td>\n",
              "      <td>-0.417953</td>\n",
              "      <td>1.780515</td>\n",
              "      <td>0.489252</td>\n",
              "      <td>-0.640093</td>\n",
              "      <td>-1.473625</td>\n",
              "      <td>-0.423741</td>\n",
              "      <td>-0.052194</td>\n",
              "      <td>-2.434738</td>\n",
              "      <td>-0.082837</td>\n",
              "      <td>0.154155</td>\n",
              "      <td>0.009968</td>\n",
              "      <td>0.075616</td>\n",
              "      <td>0.906406</td>\n",
              "      <td>-1.615339</td>\n",
              "      <td>0.600928</td>\n",
              "      <td>0.062300</td>\n",
              "      <td>-1.009866</td>\n",
              "      <td>0.285538</td>\n",
              "      <td>-0.239739</td>\n",
              "      <td>1.758293</td>\n",
              "      <td>-0.436243</td>\n",
              "      <td>0.000928</td>\n",
              "      <td>-0.716654</td>\n",
              "    </tr>\n",
              "    <tr>\n",
              "      <th>1173</th>\n",
              "      <td>-2.804491</td>\n",
              "      <td>1.841940</td>\n",
              "      <td>0.684933</td>\n",
              "      <td>1.236175</td>\n",
              "      <td>-0.462485</td>\n",
              "      <td>-0.602619</td>\n",
              "      <td>0.209500</td>\n",
              "      <td>1.373339</td>\n",
              "      <td>-1.148281</td>\n",
              "      <td>-0.538219</td>\n",
              "      <td>0.238588</td>\n",
              "      <td>-2.142923</td>\n",
              "      <td>-1.224162</td>\n",
              "      <td>0.736171</td>\n",
              "      <td>0.882937</td>\n",
              "      <td>-0.046739</td>\n",
              "      <td>-1.758380</td>\n",
              "      <td>-2.268519</td>\n",
              "      <td>0.788861</td>\n",
              "      <td>0.882348</td>\n",
              "      <td>0.352464</td>\n",
              "      <td>-0.298168</td>\n",
              "      <td>0.319857</td>\n",
              "      <td>0.229233</td>\n",
              "      <td>2.740896</td>\n",
              "      <td>-0.299772</td>\n",
              "      <td>0.396078</td>\n",
              "      <td>-0.197217</td>\n",
              "      <td>0.369991</td>\n",
              "      <td>-0.199022</td>\n",
              "      <td>2.245828</td>\n",
              "      <td>1.084704</td>\n",
              "      <td>1.496720</td>\n",
              "      <td>-0.112308</td>\n",
              "      <td>1.994839</td>\n",
              "      <td>-1.707845</td>\n",
              "    </tr>\n",
              "    <tr>\n",
              "      <th>1174</th>\n",
              "      <td>-2.089012</td>\n",
              "      <td>0.218787</td>\n",
              "      <td>-2.812928</td>\n",
              "      <td>-1.471329</td>\n",
              "      <td>2.203630</td>\n",
              "      <td>0.279358</td>\n",
              "      <td>-1.494272</td>\n",
              "      <td>0.956489</td>\n",
              "      <td>-1.878115</td>\n",
              "      <td>0.247994</td>\n",
              "      <td>1.626254</td>\n",
              "      <td>-0.231469</td>\n",
              "      <td>-0.584669</td>\n",
              "      <td>-0.549066</td>\n",
              "      <td>1.363627</td>\n",
              "      <td>-0.117051</td>\n",
              "      <td>1.316629</td>\n",
              "      <td>-0.964579</td>\n",
              "      <td>-0.761265</td>\n",
              "      <td>0.502107</td>\n",
              "      <td>0.318459</td>\n",
              "      <td>-0.430907</td>\n",
              "      <td>-1.102665</td>\n",
              "      <td>-0.020862</td>\n",
              "      <td>0.278108</td>\n",
              "      <td>-0.194815</td>\n",
              "      <td>0.767917</td>\n",
              "      <td>-0.038841</td>\n",
              "      <td>-1.829144</td>\n",
              "      <td>-1.273500</td>\n",
              "      <td>-1.379631</td>\n",
              "      <td>-0.101939</td>\n",
              "      <td>-0.417031</td>\n",
              "      <td>-0.851221</td>\n",
              "      <td>-0.797845</td>\n",
              "      <td>0.441780</td>\n",
              "    </tr>\n",
              "    <tr>\n",
              "      <th>1175</th>\n",
              "      <td>-1.907165</td>\n",
              "      <td>-0.012701</td>\n",
              "      <td>-0.705740</td>\n",
              "      <td>0.993097</td>\n",
              "      <td>0.599236</td>\n",
              "      <td>-0.393216</td>\n",
              "      <td>-0.042873</td>\n",
              "      <td>1.412493</td>\n",
              "      <td>-0.343099</td>\n",
              "      <td>-0.707454</td>\n",
              "      <td>-2.736251</td>\n",
              "      <td>-3.478689</td>\n",
              "      <td>-1.911287</td>\n",
              "      <td>1.510415</td>\n",
              "      <td>1.138920</td>\n",
              "      <td>1.738622</td>\n",
              "      <td>-0.459790</td>\n",
              "      <td>0.045587</td>\n",
              "      <td>0.593418</td>\n",
              "      <td>0.076792</td>\n",
              "      <td>0.841210</td>\n",
              "      <td>1.002437</td>\n",
              "      <td>-0.207821</td>\n",
              "      <td>-1.097311</td>\n",
              "      <td>0.686902</td>\n",
              "      <td>1.124748</td>\n",
              "      <td>-0.046550</td>\n",
              "      <td>-1.611462</td>\n",
              "      <td>-1.881441</td>\n",
              "      <td>0.339339</td>\n",
              "      <td>-0.981439</td>\n",
              "      <td>0.841335</td>\n",
              "      <td>-0.642566</td>\n",
              "      <td>-1.221214</td>\n",
              "      <td>-0.739445</td>\n",
              "      <td>-1.059303</td>\n",
              "    </tr>\n",
              "    <tr>\n",
              "      <th>1176</th>\n",
              "      <td>-4.342178</td>\n",
              "      <td>0.596859</td>\n",
              "      <td>-3.436834</td>\n",
              "      <td>2.918542</td>\n",
              "      <td>-3.152166</td>\n",
              "      <td>-0.010239</td>\n",
              "      <td>1.814601</td>\n",
              "      <td>1.508624</td>\n",
              "      <td>2.381635</td>\n",
              "      <td>-2.867018</td>\n",
              "      <td>1.835286</td>\n",
              "      <td>0.366746</td>\n",
              "      <td>-1.170673</td>\n",
              "      <td>-0.775278</td>\n",
              "      <td>1.267332</td>\n",
              "      <td>0.620155</td>\n",
              "      <td>1.337889</td>\n",
              "      <td>-1.546524</td>\n",
              "      <td>-0.489494</td>\n",
              "      <td>-1.511147</td>\n",
              "      <td>0.308085</td>\n",
              "      <td>0.133402</td>\n",
              "      <td>-2.082675</td>\n",
              "      <td>-0.750660</td>\n",
              "      <td>-0.156793</td>\n",
              "      <td>0.279553</td>\n",
              "      <td>-1.421544</td>\n",
              "      <td>-0.187667</td>\n",
              "      <td>0.001147</td>\n",
              "      <td>-0.965540</td>\n",
              "      <td>-2.138534</td>\n",
              "      <td>-0.418103</td>\n",
              "      <td>0.302692</td>\n",
              "      <td>-0.428286</td>\n",
              "      <td>-0.011056</td>\n",
              "      <td>0.671728</td>\n",
              "    </tr>\n",
              "  </tbody>\n",
              "</table>\n",
              "<p>1177 rows × 36 columns</p>\n",
              "</div>\n",
              "      <button class=\"colab-df-convert\" onclick=\"convertToInteractive('df-41e59a23-5e70-4d0d-baf1-479c3d7705c9')\"\n",
              "              title=\"Convert this dataframe to an interactive table.\"\n",
              "              style=\"display:none;\">\n",
              "        \n",
              "  <svg xmlns=\"http://www.w3.org/2000/svg\" height=\"24px\"viewBox=\"0 0 24 24\"\n",
              "       width=\"24px\">\n",
              "    <path d=\"M0 0h24v24H0V0z\" fill=\"none\"/>\n",
              "    <path d=\"M18.56 5.44l.94 2.06.94-2.06 2.06-.94-2.06-.94-.94-2.06-.94 2.06-2.06.94zm-11 1L8.5 8.5l.94-2.06 2.06-.94-2.06-.94L8.5 2.5l-.94 2.06-2.06.94zm10 10l.94 2.06.94-2.06 2.06-.94-2.06-.94-.94-2.06-.94 2.06-2.06.94z\"/><path d=\"M17.41 7.96l-1.37-1.37c-.4-.4-.92-.59-1.43-.59-.52 0-1.04.2-1.43.59L10.3 9.45l-7.72 7.72c-.78.78-.78 2.05 0 2.83L4 21.41c.39.39.9.59 1.41.59.51 0 1.02-.2 1.41-.59l7.78-7.78 2.81-2.81c.8-.78.8-2.07 0-2.86zM5.41 20L4 18.59l7.72-7.72 1.47 1.35L5.41 20z\"/>\n",
              "  </svg>\n",
              "      </button>\n",
              "      \n",
              "  <style>\n",
              "    .colab-df-container {\n",
              "      display:flex;\n",
              "      flex-wrap:wrap;\n",
              "      gap: 12px;\n",
              "    }\n",
              "\n",
              "    .colab-df-convert {\n",
              "      background-color: #E8F0FE;\n",
              "      border: none;\n",
              "      border-radius: 50%;\n",
              "      cursor: pointer;\n",
              "      display: none;\n",
              "      fill: #1967D2;\n",
              "      height: 32px;\n",
              "      padding: 0 0 0 0;\n",
              "      width: 32px;\n",
              "    }\n",
              "\n",
              "    .colab-df-convert:hover {\n",
              "      background-color: #E2EBFA;\n",
              "      box-shadow: 0px 1px 2px rgba(60, 64, 67, 0.3), 0px 1px 3px 1px rgba(60, 64, 67, 0.15);\n",
              "      fill: #174EA6;\n",
              "    }\n",
              "\n",
              "    [theme=dark] .colab-df-convert {\n",
              "      background-color: #3B4455;\n",
              "      fill: #D2E3FC;\n",
              "    }\n",
              "\n",
              "    [theme=dark] .colab-df-convert:hover {\n",
              "      background-color: #434B5C;\n",
              "      box-shadow: 0px 1px 3px 1px rgba(0, 0, 0, 0.15);\n",
              "      filter: drop-shadow(0px 1px 2px rgba(0, 0, 0, 0.3));\n",
              "      fill: #FFFFFF;\n",
              "    }\n",
              "  </style>\n",
              "\n",
              "      <script>\n",
              "        const buttonEl =\n",
              "          document.querySelector('#df-41e59a23-5e70-4d0d-baf1-479c3d7705c9 button.colab-df-convert');\n",
              "        buttonEl.style.display =\n",
              "          google.colab.kernel.accessAllowed ? 'block' : 'none';\n",
              "\n",
              "        async function convertToInteractive(key) {\n",
              "          const element = document.querySelector('#df-41e59a23-5e70-4d0d-baf1-479c3d7705c9');\n",
              "          const dataTable =\n",
              "            await google.colab.kernel.invokeFunction('convertToInteractive',\n",
              "                                                     [key], {});\n",
              "          if (!dataTable) return;\n",
              "\n",
              "          const docLinkHtml = 'Like what you see? Visit the ' +\n",
              "            '<a target=\"_blank\" href=https://colab.research.google.com/notebooks/data_table.ipynb>data table notebook</a>'\n",
              "            + ' to learn more about interactive tables.';\n",
              "          element.innerHTML = '';\n",
              "          dataTable['output_type'] = 'display_data';\n",
              "          await google.colab.output.renderOutput(dataTable, element);\n",
              "          const docLink = document.createElement('div');\n",
              "          docLink.innerHTML = docLinkHtml;\n",
              "          element.appendChild(docLink);\n",
              "        }\n",
              "      </script>\n",
              "    </div>\n",
              "  </div>\n",
              "  "
            ],
            "text/plain": [
              "           PC1       PC2       PC3  ...      PC34      PC35      PC36\n",
              "0    -1.260818 -0.485669 -3.325406  ... -1.540294  0.216495  0.184691\n",
              "1     2.426649 -0.382961 -1.305080  ...  0.232641  0.168637 -0.161019\n",
              "2    -0.120617 -0.953992 -4.439008  ...  0.803182  1.791321  1.541882\n",
              "3     6.239829  4.821519 -1.286159  ...  0.710103 -0.731103 -1.343855\n",
              "4    -0.628400 -0.410104 -2.494439  ...  0.100452  0.260741  0.311335\n",
              "...        ...       ...       ...  ...       ...       ...       ...\n",
              "1172 -2.863191  4.407597 -3.273102  ... -0.436243  0.000928 -0.716654\n",
              "1173 -2.804491  1.841940  0.684933  ... -0.112308  1.994839 -1.707845\n",
              "1174 -2.089012  0.218787 -2.812928  ... -0.851221 -0.797845  0.441780\n",
              "1175 -1.907165 -0.012701 -0.705740  ... -1.221214 -0.739445 -1.059303\n",
              "1176 -4.342178  0.596859 -3.436834  ... -0.428286 -0.011056  0.671728\n",
              "\n",
              "[1177 rows x 36 columns]"
            ]
          },
          "metadata": {},
          "execution_count": 21
        }
      ]
    },
    {
      "cell_type": "code",
      "source": [
        "#Concatinating outcome to finalDF \n",
        "finalDF = pd.concat([principalDf, df[['outcome']]], axis = 1)"
      ],
      "metadata": {
        "id": "z9nt7hB5SQIl"
      },
      "execution_count": null,
      "outputs": []
    },
    {
      "cell_type": "code",
      "source": [
        "#Converting datatype to interger\n",
        "finalDF = finalDF.astype(int)\n",
        "finalDF.dtypes"
      ],
      "metadata": {
        "id": "0GAG25l5WJod",
        "colab": {
          "base_uri": "https://localhost:8080/"
        },
        "outputId": "692f70f6-6076-41e8-f6f9-ef3149659623"
      },
      "execution_count": null,
      "outputs": [
        {
          "output_type": "execute_result",
          "data": {
            "text/plain": [
              "PC1        int64\n",
              "PC2        int64\n",
              "PC3        int64\n",
              "PC4        int64\n",
              "PC5        int64\n",
              "PC6        int64\n",
              "PC7        int64\n",
              "PC8        int64\n",
              "PC9        int64\n",
              "PC10       int64\n",
              "PC11       int64\n",
              "PC12       int64\n",
              "PC13       int64\n",
              "PC14       int64\n",
              "PC15       int64\n",
              "PC16       int64\n",
              "PC17       int64\n",
              "PC18       int64\n",
              "PC19       int64\n",
              "PC20       int64\n",
              "PC21       int64\n",
              "PC22       int64\n",
              "PC23       int64\n",
              "PC24       int64\n",
              "PC25       int64\n",
              "PC26       int64\n",
              "PC27       int64\n",
              "PC28       int64\n",
              "PC29       int64\n",
              "PC30       int64\n",
              "PC31       int64\n",
              "PC32       int64\n",
              "PC33       int64\n",
              "PC34       int64\n",
              "PC35       int64\n",
              "PC36       int64\n",
              "outcome    int64\n",
              "dtype: object"
            ]
          },
          "metadata": {},
          "execution_count": 23
        }
      ]
    },
    {
      "cell_type": "code",
      "source": [
        "#Plot to represent relationship of a few Principal components to outcome\n",
        "import seaborn as sns\n",
        "\n",
        "f, axes = plt.subplots(ncols=3, figsize=(18,5))\n",
        "\n",
        "sns.boxplot(data=finalDF, x=\"outcome\",y=\"PC1\", ax=axes[0])\n",
        "axes[0].set_title(\"outcome vs PC1\")\n",
        "\n",
        "sns.boxplot(data=finalDF, x=\"outcome\",y=\"PC4\", ax=axes[1])\n",
        "axes[1].set_title(\"outcome vs PC4\")\n",
        "\n",
        "sns.boxplot(data=finalDF, x=\"outcome\",y=\"PC7\", ax=axes[2])\n",
        "axes[2].set_title(\"outcome vs PC7\");"
      ],
      "metadata": {
        "colab": {
          "base_uri": "https://localhost:8080/",
          "height": 338
        },
        "id": "DdZRVSkAd-4f",
        "outputId": "b6646078-eccd-4ed4-e8c7-5f810b0b7ab6"
      },
      "execution_count": null,
      "outputs": [
        {
          "output_type": "display_data",
          "data": {
            "image/png": "[encoded data removed]",
            "text/plain": [
              "<Figure size 1296x360 with 3 Axes>"
            ]
          },
          "metadata": {
            "needs_background": "light"
          }
        }
      ]
    },
    {
      "cell_type": "code",
      "source": [
        "X = finalDF.drop(columns='outcome')\n",
        "y = finalDF[['outcome']]"
      ],
      "metadata": {
        "id": "rG3I3BOwUQ6z"
      },
      "execution_count": null,
      "outputs": []
    },
    {
      "cell_type": "code",
      "source": [
        "from sklearn.model_selection import train_test_split\n",
        "\n",
        "X_train, X_test, y_train, y_test = train_test_split(X,y, test_size=0.3, random_state=123)"
      ],
      "metadata": {
        "id": "ywXVXoqzUeNG"
      },
      "execution_count": null,
      "outputs": []
    },
    {
      "cell_type": "code",
      "source": [
        "print(X_train.shape, X_test.shape)"
      ],
      "metadata": {
        "colab": {
          "base_uri": "https://localhost:8080/"
        },
        "id": "FcIwSLQIUqjt",
        "outputId": "521564e3-3a18-4720-c9d6-e5f79ff3f87a"
      },
      "execution_count": null,
      "outputs": [
        {
          "output_type": "stream",
          "name": "stdout",
          "text": [
            "(823, 36) (354, 36)\n"
          ]
        }
      ]
    },
    {
      "cell_type": "code",
      "source": [
        "#Plot to show imbalance in data\n",
        "y_test['outcome'].value_counts().plot(kind='bar', title='Frequency of Deaths', xlabel='Heart Failure', ylabel='frequency')"
      ],
      "metadata": {
        "colab": {
          "base_uri": "https://localhost:8080/",
          "height": 418
        },
        "id": "BYTQXkL9z2tX",
        "outputId": "51564d4b-28e3-4d74-ac1d-ab77b04a68e8"
      },
      "execution_count": null,
      "outputs": [
        {
          "output_type": "execute_result",
          "data": {
            "text/plain": [
              "<matplotlib.axes._subplots.AxesSubplot at 0x7fa320818c90>"
            ]
          },
          "metadata": {},
          "execution_count": 28
        },
        {
          "output_type": "display_data",
          "data": {
            "image/png": "[encoded data removed]",
            "text/plain": [
              "<Figure size 864x432 with 1 Axes>"
            ]
          },
          "metadata": {
            "needs_background": "light"
          }
        }
      ]
    },
    {
      "cell_type": "code",
      "source": [
        "#Data set is imbalanced. Performing SMOTE to deal with this\n",
        "\n",
        "from imblearn.over_sampling import SMOTE\n",
        "\n",
        "Z = X.copy()\n",
        "Y = y.copy()"
      ],
      "metadata": {
        "id": "YTz_gCRdrAB9"
      },
      "execution_count": null,
      "outputs": []
    },
    {
      "cell_type": "code",
      "source": [
        "smote = SMOTE(sampling_strategy='minority')\n",
        "x_s, y_s = smote.fit_resample(Z, Y)\n",
        "Z"
      ],
      "metadata": {
        "id": "YRYFG3vwrVpX",
        "colab": {
          "base_uri": "https://localhost:8080/",
          "height": 487
        },
        "outputId": "4896e59a-3f8d-40f2-ce25-740e6cf117dd"
      },
      "execution_count": null,
      "outputs": [
        {
          "output_type": "execute_result",
          "data": {
            "text/html": [
              "\n",
              "  <div id=\"df-d9e6cc69-3090-4621-b1bc-4f56c8290aaf\">\n",
              "    <div class=\"colab-df-container\">\n",
              "      <div>\n",
              "<style scoped>\n",
              "    .dataframe tbody tr th:only-of-type {\n",
              "        vertical-align: middle;\n",
              "    }\n",
              "\n",
              "    .dataframe tbody tr th {\n",
              "        vertical-align: top;\n",
              "    }\n",
              "\n",
              "    .dataframe thead th {\n",
              "        text-align: right;\n",
              "    }\n",
              "</style>\n",
              "<table border=\"1\" class=\"dataframe\">\n",
              "  <thead>\n",
              "    <tr style=\"text-align: right;\">\n",
              "      <th></th>\n",
              "      <th>PC1</th>\n",
              "      <th>PC2</th>\n",
              "      <th>PC3</th>\n",
              "      <th>PC4</th>\n",
              "      <th>PC5</th>\n",
              "      <th>PC6</th>\n",
              "      <th>PC7</th>\n",
              "      <th>PC8</th>\n",
              "      <th>PC9</th>\n",
              "      <th>PC10</th>\n",
              "      <th>PC11</th>\n",
              "      <th>PC12</th>\n",
              "      <th>PC13</th>\n",
              "      <th>PC14</th>\n",
              "      <th>PC15</th>\n",
              "      <th>PC16</th>\n",
              "      <th>PC17</th>\n",
              "      <th>PC18</th>\n",
              "      <th>PC19</th>\n",
              "      <th>PC20</th>\n",
              "      <th>PC21</th>\n",
              "      <th>PC22</th>\n",
              "      <th>PC23</th>\n",
              "      <th>PC24</th>\n",
              "      <th>PC25</th>\n",
              "      <th>PC26</th>\n",
              "      <th>PC27</th>\n",
              "      <th>PC28</th>\n",
              "      <th>PC29</th>\n",
              "      <th>PC30</th>\n",
              "      <th>PC31</th>\n",
              "      <th>PC32</th>\n",
              "      <th>PC33</th>\n",
              "      <th>PC34</th>\n",
              "      <th>PC35</th>\n",
              "      <th>PC36</th>\n",
              "    </tr>\n",
              "  </thead>\n",
              "  <tbody>\n",
              "    <tr>\n",
              "      <th>0</th>\n",
              "      <td>-1</td>\n",
              "      <td>0</td>\n",
              "      <td>-3</td>\n",
              "      <td>0</td>\n",
              "      <td>1</td>\n",
              "      <td>-1</td>\n",
              "      <td>0</td>\n",
              "      <td>-1</td>\n",
              "      <td>0</td>\n",
              "      <td>0</td>\n",
              "      <td>0</td>\n",
              "      <td>0</td>\n",
              "      <td>0</td>\n",
              "      <td>0</td>\n",
              "      <td>-2</td>\n",
              "      <td>1</td>\n",
              "      <td>0</td>\n",
              "      <td>0</td>\n",
              "      <td>-1</td>\n",
              "      <td>0</td>\n",
              "      <td>0</td>\n",
              "      <td>0</td>\n",
              "      <td>2</td>\n",
              "      <td>0</td>\n",
              "      <td>0</td>\n",
              "      <td>1</td>\n",
              "      <td>0</td>\n",
              "      <td>0</td>\n",
              "      <td>0</td>\n",
              "      <td>0</td>\n",
              "      <td>0</td>\n",
              "      <td>0</td>\n",
              "      <td>-1</td>\n",
              "      <td>-1</td>\n",
              "      <td>0</td>\n",
              "      <td>0</td>\n",
              "    </tr>\n",
              "    <tr>\n",
              "      <th>1</th>\n",
              "      <td>2</td>\n",
              "      <td>0</td>\n",
              "      <td>-1</td>\n",
              "      <td>-1</td>\n",
              "      <td>0</td>\n",
              "      <td>0</td>\n",
              "      <td>4</td>\n",
              "      <td>0</td>\n",
              "      <td>0</td>\n",
              "      <td>0</td>\n",
              "      <td>0</td>\n",
              "      <td>0</td>\n",
              "      <td>-1</td>\n",
              "      <td>-1</td>\n",
              "      <td>-1</td>\n",
              "      <td>0</td>\n",
              "      <td>1</td>\n",
              "      <td>1</td>\n",
              "      <td>0</td>\n",
              "      <td>0</td>\n",
              "      <td>0</td>\n",
              "      <td>0</td>\n",
              "      <td>0</td>\n",
              "      <td>0</td>\n",
              "      <td>1</td>\n",
              "      <td>1</td>\n",
              "      <td>0</td>\n",
              "      <td>0</td>\n",
              "      <td>0</td>\n",
              "      <td>0</td>\n",
              "      <td>0</td>\n",
              "      <td>0</td>\n",
              "      <td>0</td>\n",
              "      <td>0</td>\n",
              "      <td>0</td>\n",
              "      <td>0</td>\n",
              "    </tr>\n",
              "    <tr>\n",
              "      <th>2</th>\n",
              "      <td>0</td>\n",
              "      <td>0</td>\n",
              "      <td>-4</td>\n",
              "      <td>0</td>\n",
              "      <td>0</td>\n",
              "      <td>1</td>\n",
              "      <td>4</td>\n",
              "      <td>0</td>\n",
              "      <td>-1</td>\n",
              "      <td>0</td>\n",
              "      <td>0</td>\n",
              "      <td>-2</td>\n",
              "      <td>0</td>\n",
              "      <td>0</td>\n",
              "      <td>0</td>\n",
              "      <td>0</td>\n",
              "      <td>0</td>\n",
              "      <td>0</td>\n",
              "      <td>-2</td>\n",
              "      <td>0</td>\n",
              "      <td>0</td>\n",
              "      <td>0</td>\n",
              "      <td>0</td>\n",
              "      <td>1</td>\n",
              "      <td>-1</td>\n",
              "      <td>0</td>\n",
              "      <td>0</td>\n",
              "      <td>-1</td>\n",
              "      <td>0</td>\n",
              "      <td>0</td>\n",
              "      <td>1</td>\n",
              "      <td>0</td>\n",
              "      <td>-1</td>\n",
              "      <td>0</td>\n",
              "      <td>1</td>\n",
              "      <td>1</td>\n",
              "    </tr>\n",
              "    <tr>\n",
              "      <th>3</th>\n",
              "      <td>6</td>\n",
              "      <td>4</td>\n",
              "      <td>-1</td>\n",
              "      <td>0</td>\n",
              "      <td>1</td>\n",
              "      <td>0</td>\n",
              "      <td>2</td>\n",
              "      <td>0</td>\n",
              "      <td>2</td>\n",
              "      <td>-2</td>\n",
              "      <td>0</td>\n",
              "      <td>2</td>\n",
              "      <td>0</td>\n",
              "      <td>1</td>\n",
              "      <td>0</td>\n",
              "      <td>0</td>\n",
              "      <td>-1</td>\n",
              "      <td>0</td>\n",
              "      <td>0</td>\n",
              "      <td>0</td>\n",
              "      <td>0</td>\n",
              "      <td>2</td>\n",
              "      <td>0</td>\n",
              "      <td>1</td>\n",
              "      <td>1</td>\n",
              "      <td>-1</td>\n",
              "      <td>0</td>\n",
              "      <td>-1</td>\n",
              "      <td>-1</td>\n",
              "      <td>1</td>\n",
              "      <td>0</td>\n",
              "      <td>0</td>\n",
              "      <td>0</td>\n",
              "      <td>0</td>\n",
              "      <td>0</td>\n",
              "      <td>-1</td>\n",
              "    </tr>\n",
              "    <tr>\n",
              "      <th>4</th>\n",
              "      <td>0</td>\n",
              "      <td>0</td>\n",
              "      <td>-2</td>\n",
              "      <td>0</td>\n",
              "      <td>0</td>\n",
              "      <td>0</td>\n",
              "      <td>1</td>\n",
              "      <td>0</td>\n",
              "      <td>0</td>\n",
              "      <td>0</td>\n",
              "      <td>1</td>\n",
              "      <td>0</td>\n",
              "      <td>-1</td>\n",
              "      <td>-2</td>\n",
              "      <td>-1</td>\n",
              "      <td>1</td>\n",
              "      <td>0</td>\n",
              "      <td>1</td>\n",
              "      <td>0</td>\n",
              "      <td>0</td>\n",
              "      <td>0</td>\n",
              "      <td>0</td>\n",
              "      <td>-1</td>\n",
              "      <td>0</td>\n",
              "      <td>2</td>\n",
              "      <td>0</td>\n",
              "      <td>0</td>\n",
              "      <td>-1</td>\n",
              "      <td>-1</td>\n",
              "      <td>2</td>\n",
              "      <td>0</td>\n",
              "      <td>0</td>\n",
              "      <td>0</td>\n",
              "      <td>0</td>\n",
              "      <td>0</td>\n",
              "      <td>0</td>\n",
              "    </tr>\n",
              "    <tr>\n",
              "      <th>...</th>\n",
              "      <td>...</td>\n",
              "      <td>...</td>\n",
              "      <td>...</td>\n",
              "      <td>...</td>\n",
              "      <td>...</td>\n",
              "      <td>...</td>\n",
              "      <td>...</td>\n",
              "      <td>...</td>\n",
              "      <td>...</td>\n",
              "      <td>...</td>\n",
              "      <td>...</td>\n",
              "      <td>...</td>\n",
              "      <td>...</td>\n",
              "      <td>...</td>\n",
              "      <td>...</td>\n",
              "      <td>...</td>\n",
              "      <td>...</td>\n",
              "      <td>...</td>\n",
              "      <td>...</td>\n",
              "      <td>...</td>\n",
              "      <td>...</td>\n",
              "      <td>...</td>\n",
              "      <td>...</td>\n",
              "      <td>...</td>\n",
              "      <td>...</td>\n",
              "      <td>...</td>\n",
              "      <td>...</td>\n",
              "      <td>...</td>\n",
              "      <td>...</td>\n",
              "      <td>...</td>\n",
              "      <td>...</td>\n",
              "      <td>...</td>\n",
              "      <td>...</td>\n",
              "      <td>...</td>\n",
              "      <td>...</td>\n",
              "      <td>...</td>\n",
              "    </tr>\n",
              "    <tr>\n",
              "      <th>1172</th>\n",
              "      <td>-2</td>\n",
              "      <td>4</td>\n",
              "      <td>-3</td>\n",
              "      <td>2</td>\n",
              "      <td>-2</td>\n",
              "      <td>-2</td>\n",
              "      <td>0</td>\n",
              "      <td>0</td>\n",
              "      <td>0</td>\n",
              "      <td>-2</td>\n",
              "      <td>1</td>\n",
              "      <td>-2</td>\n",
              "      <td>0</td>\n",
              "      <td>0</td>\n",
              "      <td>1</td>\n",
              "      <td>0</td>\n",
              "      <td>0</td>\n",
              "      <td>-1</td>\n",
              "      <td>0</td>\n",
              "      <td>0</td>\n",
              "      <td>-2</td>\n",
              "      <td>0</td>\n",
              "      <td>0</td>\n",
              "      <td>0</td>\n",
              "      <td>0</td>\n",
              "      <td>0</td>\n",
              "      <td>-1</td>\n",
              "      <td>0</td>\n",
              "      <td>0</td>\n",
              "      <td>-1</td>\n",
              "      <td>0</td>\n",
              "      <td>0</td>\n",
              "      <td>1</td>\n",
              "      <td>0</td>\n",
              "      <td>0</td>\n",
              "      <td>0</td>\n",
              "    </tr>\n",
              "    <tr>\n",
              "      <th>1173</th>\n",
              "      <td>-2</td>\n",
              "      <td>1</td>\n",
              "      <td>0</td>\n",
              "      <td>1</td>\n",
              "      <td>0</td>\n",
              "      <td>0</td>\n",
              "      <td>0</td>\n",
              "      <td>1</td>\n",
              "      <td>-1</td>\n",
              "      <td>0</td>\n",
              "      <td>0</td>\n",
              "      <td>-2</td>\n",
              "      <td>-1</td>\n",
              "      <td>0</td>\n",
              "      <td>0</td>\n",
              "      <td>0</td>\n",
              "      <td>-1</td>\n",
              "      <td>-2</td>\n",
              "      <td>0</td>\n",
              "      <td>0</td>\n",
              "      <td>0</td>\n",
              "      <td>0</td>\n",
              "      <td>0</td>\n",
              "      <td>0</td>\n",
              "      <td>2</td>\n",
              "      <td>0</td>\n",
              "      <td>0</td>\n",
              "      <td>0</td>\n",
              "      <td>0</td>\n",
              "      <td>0</td>\n",
              "      <td>2</td>\n",
              "      <td>1</td>\n",
              "      <td>1</td>\n",
              "      <td>0</td>\n",
              "      <td>1</td>\n",
              "      <td>-1</td>\n",
              "    </tr>\n",
              "    <tr>\n",
              "      <th>1174</th>\n",
              "      <td>-2</td>\n",
              "      <td>0</td>\n",
              "      <td>-2</td>\n",
              "      <td>-1</td>\n",
              "      <td>2</td>\n",
              "      <td>0</td>\n",
              "      <td>-1</td>\n",
              "      <td>0</td>\n",
              "      <td>-1</td>\n",
              "      <td>0</td>\n",
              "      <td>1</td>\n",
              "      <td>0</td>\n",
              "      <td>0</td>\n",
              "      <td>0</td>\n",
              "      <td>1</td>\n",
              "      <td>0</td>\n",
              "      <td>1</td>\n",
              "      <td>0</td>\n",
              "      <td>0</td>\n",
              "      <td>0</td>\n",
              "      <td>0</td>\n",
              "      <td>0</td>\n",
              "      <td>-1</td>\n",
              "      <td>0</td>\n",
              "      <td>0</td>\n",
              "      <td>0</td>\n",
              "      <td>0</td>\n",
              "      <td>0</td>\n",
              "      <td>-1</td>\n",
              "      <td>-1</td>\n",
              "      <td>-1</td>\n",
              "      <td>0</td>\n",
              "      <td>0</td>\n",
              "      <td>0</td>\n",
              "      <td>0</td>\n",
              "      <td>0</td>\n",
              "    </tr>\n",
              "    <tr>\n",
              "      <th>1175</th>\n",
              "      <td>-1</td>\n",
              "      <td>0</td>\n",
              "      <td>0</td>\n",
              "      <td>0</td>\n",
              "      <td>0</td>\n",
              "      <td>0</td>\n",
              "      <td>0</td>\n",
              "      <td>1</td>\n",
              "      <td>0</td>\n",
              "      <td>0</td>\n",
              "      <td>-2</td>\n",
              "      <td>-3</td>\n",
              "      <td>-1</td>\n",
              "      <td>1</td>\n",
              "      <td>1</td>\n",
              "      <td>1</td>\n",
              "      <td>0</td>\n",
              "      <td>0</td>\n",
              "      <td>0</td>\n",
              "      <td>0</td>\n",
              "      <td>0</td>\n",
              "      <td>1</td>\n",
              "      <td>0</td>\n",
              "      <td>-1</td>\n",
              "      <td>0</td>\n",
              "      <td>1</td>\n",
              "      <td>0</td>\n",
              "      <td>-1</td>\n",
              "      <td>-1</td>\n",
              "      <td>0</td>\n",
              "      <td>0</td>\n",
              "      <td>0</td>\n",
              "      <td>0</td>\n",
              "      <td>-1</td>\n",
              "      <td>0</td>\n",
              "      <td>-1</td>\n",
              "    </tr>\n",
              "    <tr>\n",
              "      <th>1176</th>\n",
              "      <td>-4</td>\n",
              "      <td>0</td>\n",
              "      <td>-3</td>\n",
              "      <td>2</td>\n",
              "      <td>-3</td>\n",
              "      <td>0</td>\n",
              "      <td>1</td>\n",
              "      <td>1</td>\n",
              "      <td>2</td>\n",
              "      <td>-2</td>\n",
              "      <td>1</td>\n",
              "      <td>0</td>\n",
              "      <td>-1</td>\n",
              "      <td>0</td>\n",
              "      <td>1</td>\n",
              "      <td>0</td>\n",
              "      <td>1</td>\n",
              "      <td>-1</td>\n",
              "      <td>0</td>\n",
              "      <td>-1</td>\n",
              "      <td>0</td>\n",
              "      <td>0</td>\n",
              "      <td>-2</td>\n",
              "      <td>0</td>\n",
              "      <td>0</td>\n",
              "      <td>0</td>\n",
              "      <td>-1</td>\n",
              "      <td>0</td>\n",
              "      <td>0</td>\n",
              "      <td>0</td>\n",
              "      <td>-2</td>\n",
              "      <td>0</td>\n",
              "      <td>0</td>\n",
              "      <td>0</td>\n",
              "      <td>0</td>\n",
              "      <td>0</td>\n",
              "    </tr>\n",
              "  </tbody>\n",
              "</table>\n",
              "<p>1177 rows × 36 columns</p>\n",
              "</div>\n",
              "      <button class=\"colab-df-convert\" onclick=\"convertToInteractive('df-d9e6cc69-3090-4621-b1bc-4f56c8290aaf')\"\n",
              "              title=\"Convert this dataframe to an interactive table.\"\n",
              "              style=\"display:none;\">\n",
              "        \n",
              "  <svg xmlns=\"http://www.w3.org/2000/svg\" height=\"24px\"viewBox=\"0 0 24 24\"\n",
              "       width=\"24px\">\n",
              "    <path d=\"M0 0h24v24H0V0z\" fill=\"none\"/>\n",
              "    <path d=\"M18.56 5.44l.94 2.06.94-2.06 2.06-.94-2.06-.94-.94-2.06-.94 2.06-2.06.94zm-11 1L8.5 8.5l.94-2.06 2.06-.94-2.06-.94L8.5 2.5l-.94 2.06-2.06.94zm10 10l.94 2.06.94-2.06 2.06-.94-2.06-.94-.94-2.06-.94 2.06-2.06.94z\"/><path d=\"M17.41 7.96l-1.37-1.37c-.4-.4-.92-.59-1.43-.59-.52 0-1.04.2-1.43.59L10.3 9.45l-7.72 7.72c-.78.78-.78 2.05 0 2.83L4 21.41c.39.39.9.59 1.41.59.51 0 1.02-.2 1.41-.59l7.78-7.78 2.81-2.81c.8-.78.8-2.07 0-2.86zM5.41 20L4 18.59l7.72-7.72 1.47 1.35L5.41 20z\"/>\n",
              "  </svg>\n",
              "      </button>\n",
              "      \n",
              "  <style>\n",
              "    .colab-df-container {\n",
              "      display:flex;\n",
              "      flex-wrap:wrap;\n",
              "      gap: 12px;\n",
              "    }\n",
              "\n",
              "    .colab-df-convert {\n",
              "      background-color: #E8F0FE;\n",
              "      border: none;\n",
              "      border-radius: 50%;\n",
              "      cursor: pointer;\n",
              "      display: none;\n",
              "      fill: #1967D2;\n",
              "      height: 32px;\n",
              "      padding: 0 0 0 0;\n",
              "      width: 32px;\n",
              "    }\n",
              "\n",
              "    .colab-df-convert:hover {\n",
              "      background-color: #E2EBFA;\n",
              "      box-shadow: 0px 1px 2px rgba(60, 64, 67, 0.3), 0px 1px 3px 1px rgba(60, 64, 67, 0.15);\n",
              "      fill: #174EA6;\n",
              "    }\n",
              "\n",
              "    [theme=dark] .colab-df-convert {\n",
              "      background-color: #3B4455;\n",
              "      fill: #D2E3FC;\n",
              "    }\n",
              "\n",
              "    [theme=dark] .colab-df-convert:hover {\n",
              "      background-color: #434B5C;\n",
              "      box-shadow: 0px 1px 3px 1px rgba(0, 0, 0, 0.15);\n",
              "      filter: drop-shadow(0px 1px 2px rgba(0, 0, 0, 0.3));\n",
              "      fill: #FFFFFF;\n",
              "    }\n",
              "  </style>\n",
              "\n",
              "      <script>\n",
              "        const buttonEl =\n",
              "          document.querySelector('#df-d9e6cc69-3090-4621-b1bc-4f56c8290aaf button.colab-df-convert');\n",
              "        buttonEl.style.display =\n",
              "          google.colab.kernel.accessAllowed ? 'block' : 'none';\n",
              "\n",
              "        async function convertToInteractive(key) {\n",
              "          const element = document.querySelector('#df-d9e6cc69-3090-4621-b1bc-4f56c8290aaf');\n",
              "          const dataTable =\n",
              "            await google.colab.kernel.invokeFunction('convertToInteractive',\n",
              "                                                     [key], {});\n",
              "          if (!dataTable) return;\n",
              "\n",
              "          const docLinkHtml = 'Like what you see? Visit the ' +\n",
              "            '<a target=\"_blank\" href=https://colab.research.google.com/notebooks/data_table.ipynb>data table notebook</a>'\n",
              "            + ' to learn more about interactive tables.';\n",
              "          element.innerHTML = '';\n",
              "          dataTable['output_type'] = 'display_data';\n",
              "          await google.colab.output.renderOutput(dataTable, element);\n",
              "          const docLink = document.createElement('div');\n",
              "          docLink.innerHTML = docLinkHtml;\n",
              "          element.appendChild(docLink);\n",
              "        }\n",
              "      </script>\n",
              "    </div>\n",
              "  </div>\n",
              "  "
            ],
            "text/plain": [
              "      PC1  PC2  PC3  PC4  PC5  PC6  ...  PC31  PC32  PC33  PC34  PC35  PC36\n",
              "0      -1    0   -3    0    1   -1  ...     0     0    -1    -1     0     0\n",
              "1       2    0   -1   -1    0    0  ...     0     0     0     0     0     0\n",
              "2       0    0   -4    0    0    1  ...     1     0    -1     0     1     1\n",
              "3       6    4   -1    0    1    0  ...     0     0     0     0     0    -1\n",
              "4       0    0   -2    0    0    0  ...     0     0     0     0     0     0\n",
              "...   ...  ...  ...  ...  ...  ...  ...   ...   ...   ...   ...   ...   ...\n",
              "1172   -2    4   -3    2   -2   -2  ...     0     0     1     0     0     0\n",
              "1173   -2    1    0    1    0    0  ...     2     1     1     0     1    -1\n",
              "1174   -2    0   -2   -1    2    0  ...    -1     0     0     0     0     0\n",
              "1175   -1    0    0    0    0    0  ...     0     0     0    -1     0    -1\n",
              "1176   -4    0   -3    2   -3    0  ...    -2     0     0     0     0     0\n",
              "\n",
              "[1177 rows x 36 columns]"
            ]
          },
          "metadata": {},
          "execution_count": 30
        }
      ]
    },
    {
      "cell_type": "code",
      "source": [
        "#Plot to show balanced data post SMOTE\n",
        "y_s['outcome'].value_counts().plot(kind='bar', title='Frequency of Deaths', xlabel='Heart Failure', ylabel='frequency')"
      ],
      "metadata": {
        "id": "pMIQFk0nGgWL",
        "colab": {
          "base_uri": "https://localhost:8080/",
          "height": 418
        },
        "outputId": "fa945ea9-8539-461c-ee0b-ee295d6c2eee"
      },
      "execution_count": null,
      "outputs": [
        {
          "output_type": "execute_result",
          "data": {
            "text/plain": [
              "<matplotlib.axes._subplots.AxesSubplot at 0x7fa320562950>"
            ]
          },
          "metadata": {},
          "execution_count": 31
        },
        {
          "output_type": "display_data",
          "data": {
            "image/png": "[encoded data removed]",
            "text/plain": [
              "<Figure size 864x432 with 1 Axes>"
            ]
          },
          "metadata": {
            "needs_background": "light"
          }
        }
      ]
    },
    {
      "cell_type": "code",
      "source": [
        "#Splitting Data set into test and train\n",
        "X_train,X_test,y_train,y_test = train_test_split(x_s, y_s, test_size=0.3, random_state=123)"
      ],
      "metadata": {
        "id": "xEiQe-qtrbyK"
      },
      "execution_count": null,
      "outputs": []
    },
    {
      "cell_type": "code",
      "source": [
        "#XGBClassifier Model\n",
        "from xgboost import XGBClassifier\n",
        "\n",
        "xgb = XGBClassifier(random_state=123, seed=123)\n",
        "xgb.fit(X_train, y_train)\n",
        "\n",
        "pred_b = xgb.predict(X_test)\n",
        "y_test_array = np.array(y_test['outcome'])"
      ],
      "metadata": {
        "id": "jooBMI8vpyYn",
        "colab": {
          "base_uri": "https://localhost:8080/"
        },
        "outputId": "80254e8f-88e6-43fd-94ba-86f4d8081e76"
      },
      "execution_count": null,
      "outputs": [
        {
          "output_type": "stream",
          "name": "stderr",
          "text": [
            "/usr/local/lib/python3.7/dist-packages/sklearn/preprocessing/_label.py:98: DataConversionWarning: A column-vector y was passed when a 1d array was expected. Please change the shape of y to (n_samples, ), for example using ravel().\n",
            "  y = column_or_1d(y, warn=True)\n",
            "/usr/local/lib/python3.7/dist-packages/sklearn/preprocessing/_label.py:133: DataConversionWarning: A column-vector y was passed when a 1d array was expected. Please change the shape of y to (n_samples, ), for example using ravel().\n",
            "  y = column_or_1d(y, warn=True)\n"
          ]
        }
      ]
    },
    {
      "cell_type": "code",
      "source": [
        "#Calculating Confusion Matrix, Classification report and Accuracy of XGBClassifier Model\n",
        "import sklearn.metrics  as metrics\n",
        "from sklearn.metrics import classification_report\n",
        "xgb_accuracy = metrics.accuracy_score(pred_b, y_test_array)\n",
        "con = confusion_matrix(pred_b, y_test_array)\n",
        "xgb_con = classification_report(pred_b, y_test_array)"
      ],
      "metadata": {
        "id": "qrmBEWz7rvXl"
      },
      "execution_count": null,
      "outputs": []
    },
    {
      "cell_type": "code",
      "source": [
        "#Confusion Matrix, Classification report and Accuracy of XGBClassifier Model\n",
        "print(\"Confusion Matrix:\", \"\\n\", con, \"\\n\")\n",
        "print(\"Classification Report\", \"\\n\", xgb_con, \"\\n\")\n",
        "print(\"Accuracy of XGB Classifier Model is: \", xgb_accuracy)"
      ],
      "metadata": {
        "id": "ixEegHccr1HZ",
        "colab": {
          "base_uri": "https://localhost:8080/"
        },
        "outputId": "66238338-ce49-4e2d-bf70-54e1a96fee8b"
      },
      "execution_count": null,
      "outputs": [
        {
          "output_type": "stream",
          "name": "stdout",
          "text": [
            "Confusion Matrix: \n",
            " [[258  34]\n",
            " [ 44 275]] \n",
            "\n",
            "Classification Report \n",
            "               precision    recall  f1-score   support\n",
            "\n",
            "           0       0.85      0.88      0.87       292\n",
            "           1       0.89      0.86      0.88       319\n",
            "\n",
            "    accuracy                           0.87       611\n",
            "   macro avg       0.87      0.87      0.87       611\n",
            "weighted avg       0.87      0.87      0.87       611\n",
            " \n",
            "\n",
            "Accuracy of XGB Classifier Model is:  0.8723404255319149\n"
          ]
        }
      ]
    },
    {
      "cell_type": "code",
      "source": [
        "#Confusion Matrix Plot\n",
        "plt.figure(figsize=(9,9))\n",
        "sns.heatmap(con, annot=True, fmt=\".0f\", linewidths=.5, square = True, cmap = 'Blues_r')\n",
        "plt.ylabel('ACTUAL')\n",
        "plt.xlabel('PREDICTED')\n",
        "all_sample_title = 'ACCURACY SCORE'.format(accuracy_score)\n",
        "plt.title(all_sample_title, size = 15)"
      ],
      "metadata": {
        "colab": {
          "base_uri": "https://localhost:8080/",
          "height": 538
        },
        "id": "pOxAdGpDbTZ5",
        "outputId": "c41e017d-cc78-4623-980c-c55ec5c4297f"
      },
      "execution_count": null,
      "outputs": [
        {
          "output_type": "execute_result",
          "data": {
            "text/plain": [
              "Text(0.5, 1.0, 'ACCURACY SCORE')"
            ]
          },
          "metadata": {},
          "execution_count": 38
        },
        {
          "output_type": "display_data",
          "data": {
            "image/png": "[encoded data removed]",
            "text/plain": [
              "<Figure size 648x648 with 2 Axes>"
            ]
          },
          "metadata": {
            "needs_background": "light"
          }
        }
      ]
    },
    {
      "cell_type": "code",
      "source": [
        "#Logistic regression Model\n",
        "\n",
        "from sklearn.linear_model import LogisticRegression\n",
        " \n",
        "ml=LogisticRegression()\n",
        "ml.fit(X_train, y_train)\n",
        "print(ml.score(X_train, y_train))\n",
        "print(ml.score(X_test, y_test))"
      ],
      "metadata": {
        "colab": {
          "base_uri": "https://localhost:8080/"
        },
        "id": "su6t07AjU6Oh",
        "outputId": "1d302361-22f0-4311-a833-8cbea3405ac2"
      },
      "execution_count": null,
      "outputs": [
        {
          "output_type": "stream",
          "name": "stdout",
          "text": [
            "0.7129824561403508\n",
            "0.707037643207856\n"
          ]
        },
        {
          "output_type": "stream",
          "name": "stderr",
          "text": [
            "/usr/local/lib/python3.7/dist-packages/sklearn/utils/validation.py:993: DataConversionWarning: A column-vector y was passed when a 1d array was expected. Please change the shape of y to (n_samples, ), for example using ravel().\n",
            "  y = column_or_1d(y, warn=True)\n"
          ]
        }
      ]
    },
    {
      "cell_type": "code",
      "source": [
        "#Finding predicted value and comparing with actual\n",
        "y_predictions = ml.predict(X_test)\n",
        "y_test_array = np.array(y_test['outcome'])\n",
        "y_predictions, y_test_array"
      ],
      "metadata": {
        "id": "ceQGW88lvN2y",
        "colab": {
          "base_uri": "https://localhost:8080/"
        },
        "outputId": "3c79bb4f-68ff-4cfa-b78d-0f709be9764d"
      },
      "execution_count": null,
      "outputs": [
        {
          "output_type": "execute_result",
          "data": {
            "text/plain": [
              "(array([0, 0, 0, 1, 0, 0, 1, 1, 0, 0, 0, 1, 0, 1, 0, 0, 0, 1, 1, 0, 0, 1,\n",
              "        1, 0, 1, 1, 1, 0, 0, 0, 1, 1, 1, 1, 1, 0, 0, 0, 0, 1, 1, 0, 0, 0,\n",
              "        0, 1, 0, 0, 0, 1, 0, 1, 0, 1, 0, 0, 1, 1, 0, 1, 0, 1, 0, 0, 1, 1,\n",
              "        0, 0, 0, 1, 0, 1, 1, 1, 1, 1, 1, 1, 1, 0, 0, 1, 0, 1, 1, 0, 1, 1,\n",
              "        1, 0, 1, 0, 1, 0, 1, 0, 1, 0, 1, 0, 1, 0, 0, 1, 0, 1, 0, 1, 0, 0,\n",
              "        0, 1, 1, 1, 0, 0, 0, 1, 1, 0, 1, 1, 1, 1, 1, 0, 1, 0, 1, 1, 0, 0,\n",
              "        1, 1, 0, 0, 1, 1, 0, 1, 1, 0, 1, 1, 1, 1, 1, 1, 1, 0, 0, 1, 0, 0,\n",
              "        1, 0, 1, 1, 1, 1, 0, 0, 0, 0, 0, 0, 1, 0, 0, 1, 1, 1, 0, 0, 0, 0,\n",
              "        0, 1, 0, 0, 1, 0, 1, 0, 0, 1, 0, 0, 1, 1, 0, 0, 1, 1, 0, 0, 1, 0,\n",
              "        0, 0, 1, 1, 0, 0, 0, 0, 1, 1, 0, 1, 1, 0, 0, 1, 0, 0, 0, 0, 0, 0,\n",
              "        0, 0, 0, 0, 0, 0, 1, 1, 1, 1, 0, 1, 0, 1, 1, 1, 0, 0, 0, 0, 1, 1,\n",
              "        1, 0, 0, 0, 1, 1, 1, 1, 0, 1, 0, 0, 1, 1, 1, 0, 1, 0, 0, 0, 1, 1,\n",
              "        1, 1, 0, 1, 0, 1, 1, 1, 1, 0, 1, 0, 1, 0, 0, 1, 1, 1, 1, 0, 0, 1,\n",
              "        0, 0, 0, 1, 1, 0, 0, 0, 1, 1, 0, 1, 1, 1, 1, 0, 0, 0, 1, 1, 0, 0,\n",
              "        0, 0, 1, 0, 1, 1, 1, 0, 1, 0, 1, 0, 0, 0, 0, 1, 0, 0, 0, 1, 1, 0,\n",
              "        1, 0, 1, 0, 0, 0, 1, 0, 0, 0, 0, 0, 0, 0, 0, 1, 1, 1, 1, 0, 1, 0,\n",
              "        0, 0, 1, 0, 1, 1, 0, 0, 0, 0, 0, 1, 0, 0, 0, 1, 1, 0, 1, 0, 1, 0,\n",
              "        1, 1, 0, 0, 0, 1, 0, 0, 1, 0, 1, 1, 1, 0, 0, 0, 1, 0, 0, 1, 1, 0,\n",
              "        1, 1, 0, 0, 1, 1, 1, 0, 1, 1, 1, 1, 0, 0, 0, 1, 1, 0, 0, 0, 0, 1,\n",
              "        0, 0, 0, 0, 0, 0, 0, 0, 0, 0, 0, 0, 0, 1, 0, 0, 1, 1, 0, 0, 1, 0,\n",
              "        0, 1, 0, 1, 1, 1, 0, 0, 1, 0, 0, 0, 0, 1, 1, 1, 0, 1, 0, 1, 0, 0,\n",
              "        0, 1, 0, 1, 0, 1, 1, 1, 0, 1, 1, 0, 1, 1, 0, 0, 1, 1, 0, 0, 0, 0,\n",
              "        0, 1, 1, 0, 1, 1, 1, 1, 1, 0, 1, 1, 1, 1, 1, 0, 0, 1, 1, 1, 1, 1,\n",
              "        1, 0, 1, 1, 0, 0, 1, 1, 1, 1, 0, 0, 0, 0, 1, 0, 0, 1, 0, 0, 1, 0,\n",
              "        0, 1, 1, 0, 0, 0, 1, 0, 0, 0, 1, 0, 1, 0, 0, 0, 0, 0, 0, 1, 0, 0,\n",
              "        0, 0, 0, 1, 1, 1, 0, 0, 1, 0, 0, 1, 1, 1, 1, 0, 0, 0, 0, 1, 0, 1,\n",
              "        0, 1, 1, 1, 1, 0, 0, 1, 0, 1, 1, 1, 1, 1, 1, 1, 1, 1, 0, 0, 1, 0,\n",
              "        0, 0, 0, 1, 0, 0, 1, 1, 1, 0, 0, 1, 0, 0, 1, 0, 1]),\n",
              " array([0, 1, 0, 1, 0, 0, 0, 1, 1, 0, 1, 1, 1, 1, 0, 0, 1, 0, 0, 1, 0, 1,\n",
              "        1, 0, 1, 1, 1, 0, 1, 1, 1, 0, 0, 1, 1, 0, 0, 0, 0, 1, 1, 0, 0, 0,\n",
              "        0, 1, 1, 0, 0, 1, 0, 1, 0, 0, 0, 0, 1, 1, 1, 0, 0, 1, 0, 1, 0, 1,\n",
              "        0, 1, 0, 1, 0, 1, 0, 1, 1, 0, 1, 1, 1, 1, 0, 1, 0, 1, 1, 1, 1, 0,\n",
              "        1, 0, 1, 0, 1, 0, 1, 1, 0, 1, 1, 0, 1, 1, 0, 0, 1, 1, 0, 1, 0, 1,\n",
              "        1, 1, 0, 1, 0, 0, 0, 1, 1, 0, 1, 1, 0, 1, 1, 0, 0, 1, 0, 1, 1, 1,\n",
              "        0, 1, 0, 1, 0, 0, 1, 1, 1, 0, 1, 0, 1, 1, 1, 0, 1, 0, 0, 1, 0, 1,\n",
              "        1, 0, 1, 0, 1, 1, 0, 0, 0, 0, 1, 0, 1, 0, 1, 0, 1, 1, 1, 0, 0, 0,\n",
              "        0, 0, 0, 0, 1, 0, 1, 1, 0, 0, 0, 0, 0, 0, 0, 1, 1, 1, 1, 1, 1, 1,\n",
              "        1, 0, 0, 1, 1, 1, 0, 0, 1, 0, 0, 0, 1, 0, 0, 1, 0, 0, 0, 1, 0, 1,\n",
              "        0, 0, 0, 0, 0, 1, 1, 1, 1, 1, 0, 1, 0, 1, 1, 1, 0, 0, 0, 1, 0, 1,\n",
              "        1, 1, 0, 1, 1, 1, 1, 1, 1, 1, 1, 1, 1, 1, 1, 0, 0, 0, 0, 0, 1, 1,\n",
              "        1, 1, 0, 1, 0, 0, 1, 0, 1, 1, 1, 1, 1, 1, 0, 0, 0, 0, 0, 0, 0, 0,\n",
              "        0, 0, 0, 1, 0, 1, 0, 0, 1, 0, 0, 0, 1, 0, 1, 0, 0, 0, 1, 0, 1, 0,\n",
              "        0, 1, 1, 1, 1, 1, 1, 0, 1, 0, 1, 1, 1, 0, 1, 1, 1, 0, 0, 1, 0, 0,\n",
              "        1, 0, 0, 0, 1, 0, 0, 0, 1, 0, 1, 1, 0, 0, 0, 1, 1, 0, 1, 0, 0, 0,\n",
              "        0, 0, 1, 0, 1, 1, 0, 0, 1, 0, 0, 1, 1, 0, 0, 1, 1, 0, 1, 0, 0, 1,\n",
              "        1, 1, 0, 0, 0, 1, 1, 1, 0, 0, 1, 1, 1, 0, 1, 0, 0, 0, 1, 1, 0, 1,\n",
              "        1, 0, 0, 0, 1, 1, 1, 0, 1, 1, 1, 1, 0, 1, 1, 1, 1, 1, 0, 0, 0, 0,\n",
              "        1, 0, 0, 0, 0, 1, 0, 0, 0, 0, 0, 0, 1, 1, 1, 0, 1, 1, 0, 0, 1, 0,\n",
              "        0, 0, 0, 1, 1, 1, 0, 0, 0, 0, 0, 0, 0, 1, 1, 1, 0, 1, 1, 1, 1, 0,\n",
              "        1, 1, 0, 0, 0, 1, 1, 1, 0, 0, 1, 0, 1, 1, 0, 1, 1, 1, 0, 0, 1, 0,\n",
              "        0, 1, 0, 0, 1, 0, 0, 0, 1, 0, 1, 1, 1, 1, 1, 0, 0, 1, 1, 1, 1, 1,\n",
              "        1, 0, 1, 1, 0, 0, 0, 0, 1, 1, 1, 0, 1, 0, 0, 0, 0, 0, 1, 1, 1, 1,\n",
              "        0, 1, 1, 0, 0, 0, 1, 1, 1, 0, 1, 1, 1, 1, 0, 0, 0, 1, 0, 1, 0, 0,\n",
              "        0, 1, 1, 0, 0, 1, 0, 0, 1, 0, 0, 0, 1, 1, 0, 1, 0, 0, 0, 1, 0, 0,\n",
              "        0, 1, 1, 0, 1, 1, 0, 1, 0, 1, 1, 0, 0, 0, 1, 0, 1, 1, 1, 1, 1, 0,\n",
              "        0, 0, 0, 1, 1, 0, 1, 1, 0, 0, 0, 1, 1, 1, 1, 0, 1]))"
            ]
          },
          "metadata": {},
          "execution_count": 40
        }
      ]
    },
    {
      "cell_type": "code",
      "source": [
        "#Calculating Confusion Matrix, Classification report and Accuracy of Logistic Regression Model\n",
        "lcm=confusion_matrix(y_predictions, y_test_array)\n",
        "lcr= classification_report(y_predictions, y_test_array)\n",
        "Log_accuracy = metrics.f1_score(y_predictions, y_test_array)"
      ],
      "metadata": {
        "id": "YRcjTRAWyKW9"
      },
      "execution_count": null,
      "outputs": []
    },
    {
      "cell_type": "code",
      "source": [
        "#Confusion Matrix, Classification report and Accuracy of Logistic Regression Model\n",
        "from sklearn.metrics import classification_report\n",
        "print(\"Confusion Matrix:\", \"\\n\", lcm, \"\\n\")\n",
        "print(\"Classification Report\", \"\\n\", lcr, \"\\n\")\n",
        "print(\"Accuracy of Logistic Regression Model is: \", Log_accuracy)"
      ],
      "metadata": {
        "colab": {
          "base_uri": "https://localhost:8080/"
        },
        "id": "fKNxIPffwbLT",
        "outputId": "5aa929f3-97e6-4dd9-a792-3a8fe7df409b"
      },
      "execution_count": null,
      "outputs": [
        {
          "output_type": "stream",
          "name": "stdout",
          "text": [
            "Confusion Matrix: \n",
            " [[223 100]\n",
            " [ 79 209]] \n",
            "\n",
            "Classification Report \n",
            "               precision    recall  f1-score   support\n",
            "\n",
            "           0       0.74      0.69      0.71       323\n",
            "           1       0.68      0.73      0.70       288\n",
            "\n",
            "    accuracy                           0.71       611\n",
            "   macro avg       0.71      0.71      0.71       611\n",
            "weighted avg       0.71      0.71      0.71       611\n",
            " \n",
            "\n",
            "Accuracy of Logistic Regression Model is:  0.7001675041876047\n"
          ]
        }
      ]
    },
    {
      "cell_type": "code",
      "source": [
        "#Confusion Matrix Plot\n",
        "plt.figure(figsize=(9,9))\n",
        "sns.heatmap(lcm, annot=True, fmt=\".0f\", linewidths=.5, square = True, cmap = 'Blues_r')\n",
        "plt.ylabel('ACTUAL')\n",
        "plt.xlabel('PREDICTED')\n",
        "all_sample_title = 'ACCURACY SCORE'.format(accuracy_score)\n",
        "plt.title(all_sample_title, size = 15)"
      ],
      "metadata": {
        "colab": {
          "base_uri": "https://localhost:8080/",
          "height": 541
        },
        "id": "mDZZofvZP3VK",
        "outputId": "5824529f-7fc2-4d85-c3a6-c04ca46af492"
      },
      "execution_count": null,
      "outputs": [
        {
          "output_type": "execute_result",
          "data": {
            "text/plain": [
              "Text(0.5, 1.0, 'ACCURACY SCORE')"
            ]
          },
          "metadata": {},
          "execution_count": 43
        },
        {
          "output_type": "display_data",
          "data": {
            "image/png": "[encoded data removed]",
            "text/plain": [
              "<Figure size 648x648 with 2 Axes>"
            ]
          },
          "metadata": {
            "needs_background": "light"
          }
        }
      ]
    },
    {
      "cell_type": "code",
      "source": [
        "#KNeighborsClassifier Model\n",
        "from sklearn.neighbors import KNeighborsClassifier\n",
        "knn=KNeighborsClassifier(n_neighbors=30)\n",
        "knn.fit(X_train, y_train)\n",
        "print(knn.score(X_train, y_train))\n",
        "print(knn.score(X_test, y_test))"
      ],
      "metadata": {
        "colab": {
          "base_uri": "https://localhost:8080/"
        },
        "id": "tO-wkOreoYb_",
        "outputId": "4774e225-1714-4cb3-bbef-a75404b4e9b8"
      },
      "execution_count": null,
      "outputs": [
        {
          "output_type": "stream",
          "name": "stdout",
          "text": [
            "0.5628070175438596\n",
            "0.5613747954173486\n"
          ]
        },
        {
          "output_type": "stream",
          "name": "stderr",
          "text": [
            "/usr/local/lib/python3.7/dist-packages/sklearn/neighbors/_classification.py:198: DataConversionWarning: A column-vector y was passed when a 1d array was expected. Please change the shape of y to (n_samples,), for example using ravel().\n",
            "  return self._fit(X, y)\n"
          ]
        }
      ]
    },
    {
      "cell_type": "code",
      "source": [
        "#Finding predicted value\n",
        "y_predictions = knn.predict(X_test)\n",
        "y_test_array = np.array(y_test['outcome'])\n",
        "y_predictions, y_test_array"
      ],
      "metadata": {
        "colab": {
          "base_uri": "https://localhost:8080/"
        },
        "id": "E1EbSw8lZO5Q",
        "outputId": "78fd55d7-2cfb-4b4e-8c5a-5fb094a1fb7c"
      },
      "execution_count": null,
      "outputs": [
        {
          "output_type": "execute_result",
          "data": {
            "text/plain": [
              "(array([1, 1, 1, 1, 1, 1, 1, 1, 1, 1, 1, 1, 1, 1, 1, 1, 1, 1, 1, 1, 1, 1,\n",
              "        1, 1, 1, 1, 1, 1, 1, 1, 1, 1, 1, 1, 1, 1, 1, 1, 1, 1, 1, 0, 1, 1,\n",
              "        1, 1, 1, 1, 1, 1, 1, 1, 1, 1, 1, 1, 1, 1, 1, 1, 1, 1, 0, 1, 1, 1,\n",
              "        1, 1, 1, 1, 1, 1, 1, 1, 1, 1, 1, 1, 1, 1, 1, 1, 1, 1, 1, 1, 1, 1,\n",
              "        1, 1, 1, 1, 1, 1, 1, 1, 1, 1, 1, 1, 1, 1, 1, 1, 1, 1, 1, 1, 0, 0,\n",
              "        1, 1, 1, 1, 1, 1, 1, 1, 1, 0, 1, 1, 1, 1, 1, 1, 1, 1, 1, 1, 1, 1,\n",
              "        1, 1, 0, 1, 1, 1, 1, 1, 1, 1, 1, 1, 1, 1, 1, 1, 1, 1, 1, 1, 1, 1,\n",
              "        1, 1, 1, 1, 1, 1, 1, 1, 1, 1, 1, 0, 1, 1, 1, 1, 1, 1, 1, 0, 1, 1,\n",
              "        1, 1, 1, 1, 1, 1, 1, 1, 0, 1, 0, 1, 1, 1, 1, 1, 1, 1, 1, 1, 1, 1,\n",
              "        1, 1, 1, 1, 1, 1, 1, 1, 1, 1, 1, 1, 1, 1, 1, 1, 1, 1, 0, 1, 0, 1,\n",
              "        1, 1, 1, 1, 0, 1, 1, 1, 1, 1, 0, 1, 1, 1, 1, 1, 1, 1, 1, 1, 1, 1,\n",
              "        1, 1, 1, 1, 1, 1, 1, 1, 1, 1, 1, 1, 1, 1, 1, 0, 1, 1, 1, 1, 1, 1,\n",
              "        1, 1, 1, 1, 1, 1, 1, 1, 1, 1, 1, 1, 1, 1, 1, 0, 1, 1, 1, 1, 1, 1,\n",
              "        1, 1, 1, 1, 1, 1, 1, 1, 1, 1, 0, 1, 1, 1, 1, 1, 1, 1, 1, 1, 1, 1,\n",
              "        0, 1, 1, 1, 1, 1, 1, 1, 1, 1, 1, 1, 1, 0, 1, 1, 1, 1, 1, 1, 1, 1,\n",
              "        1, 1, 1, 1, 1, 1, 1, 1, 1, 1, 1, 1, 1, 1, 1, 1, 1, 1, 1, 1, 0, 1,\n",
              "        0, 1, 1, 1, 1, 1, 0, 1, 1, 1, 1, 1, 1, 1, 1, 1, 1, 1, 1, 1, 1, 1,\n",
              "        1, 1, 1, 1, 1, 1, 1, 1, 1, 1, 1, 1, 1, 1, 1, 1, 1, 1, 1, 1, 1, 1,\n",
              "        1, 0, 1, 1, 1, 1, 1, 1, 1, 1, 1, 1, 1, 1, 1, 1, 1, 1, 1, 1, 1, 1,\n",
              "        1, 0, 1, 1, 1, 1, 1, 0, 1, 1, 1, 1, 1, 1, 1, 1, 1, 1, 1, 1, 1, 1,\n",
              "        1, 1, 0, 1, 1, 1, 0, 1, 1, 1, 1, 1, 1, 1, 1, 1, 1, 1, 1, 1, 1, 1,\n",
              "        1, 1, 0, 1, 1, 1, 1, 1, 1, 1, 1, 1, 1, 1, 1, 1, 1, 1, 1, 1, 1, 1,\n",
              "        1, 1, 1, 1, 1, 1, 1, 1, 1, 1, 1, 1, 1, 1, 1, 0, 1, 1, 1, 1, 1, 1,\n",
              "        1, 1, 1, 1, 1, 1, 1, 1, 1, 1, 1, 0, 1, 0, 1, 1, 1, 1, 1, 1, 1, 1,\n",
              "        0, 1, 1, 1, 1, 1, 1, 1, 1, 1, 1, 1, 1, 1, 1, 1, 1, 1, 1, 1, 1, 1,\n",
              "        1, 1, 0, 1, 1, 1, 1, 0, 1, 1, 1, 1, 1, 1, 1, 1, 1, 1, 1, 1, 1, 1,\n",
              "        1, 1, 1, 1, 1, 1, 1, 1, 1, 1, 1, 0, 1, 1, 1, 1, 1, 1, 1, 1, 1, 0,\n",
              "        0, 1, 1, 1, 1, 1, 1, 1, 1, 1, 1, 1, 1, 1, 1, 0, 1]),\n",
              " array([0, 1, 0, 1, 0, 0, 0, 1, 1, 0, 1, 1, 1, 1, 0, 0, 1, 0, 0, 1, 0, 1,\n",
              "        1, 0, 1, 1, 1, 0, 1, 1, 1, 0, 0, 1, 1, 0, 0, 0, 0, 1, 1, 0, 0, 0,\n",
              "        0, 1, 1, 0, 0, 1, 0, 1, 0, 0, 0, 0, 1, 1, 1, 0, 0, 1, 0, 1, 0, 1,\n",
              "        0, 1, 0, 1, 0, 1, 0, 1, 1, 0, 1, 1, 1, 1, 0, 1, 0, 1, 1, 1, 1, 0,\n",
              "        1, 0, 1, 0, 1, 0, 1, 1, 0, 1, 1, 0, 1, 1, 0, 0, 1, 1, 0, 1, 0, 1,\n",
              "        1, 1, 0, 1, 0, 0, 0, 1, 1, 0, 1, 1, 0, 1, 1, 0, 0, 1, 0, 1, 1, 1,\n",
              "        0, 1, 0, 1, 0, 0, 1, 1, 1, 0, 1, 0, 1, 1, 1, 0, 1, 0, 0, 1, 0, 1,\n",
              "        1, 0, 1, 0, 1, 1, 0, 0, 0, 0, 1, 0, 1, 0, 1, 0, 1, 1, 1, 0, 0, 0,\n",
              "        0, 0, 0, 0, 1, 0, 1, 1, 0, 0, 0, 0, 0, 0, 0, 1, 1, 1, 1, 1, 1, 1,\n",
              "        1, 0, 0, 1, 1, 1, 0, 0, 1, 0, 0, 0, 1, 0, 0, 1, 0, 0, 0, 1, 0, 1,\n",
              "        0, 0, 0, 0, 0, 1, 1, 1, 1, 1, 0, 1, 0, 1, 1, 1, 0, 0, 0, 1, 0, 1,\n",
              "        1, 1, 0, 1, 1, 1, 1, 1, 1, 1, 1, 1, 1, 1, 1, 0, 0, 0, 0, 0, 1, 1,\n",
              "        1, 1, 0, 1, 0, 0, 1, 0, 1, 1, 1, 1, 1, 1, 0, 0, 0, 0, 0, 0, 0, 0,\n",
              "        0, 0, 0, 1, 0, 1, 0, 0, 1, 0, 0, 0, 1, 0, 1, 0, 0, 0, 1, 0, 1, 0,\n",
              "        0, 1, 1, 1, 1, 1, 1, 0, 1, 0, 1, 1, 1, 0, 1, 1, 1, 0, 0, 1, 0, 0,\n",
              "        1, 0, 0, 0, 1, 0, 0, 0, 1, 0, 1, 1, 0, 0, 0, 1, 1, 0, 1, 0, 0, 0,\n",
              "        0, 0, 1, 0, 1, 1, 0, 0, 1, 0, 0, 1, 1, 0, 0, 1, 1, 0, 1, 0, 0, 1,\n",
              "        1, 1, 0, 0, 0, 1, 1, 1, 0, 0, 1, 1, 1, 0, 1, 0, 0, 0, 1, 1, 0, 1,\n",
              "        1, 0, 0, 0, 1, 1, 1, 0, 1, 1, 1, 1, 0, 1, 1, 1, 1, 1, 0, 0, 0, 0,\n",
              "        1, 0, 0, 0, 0, 1, 0, 0, 0, 0, 0, 0, 1, 1, 1, 0, 1, 1, 0, 0, 1, 0,\n",
              "        0, 0, 0, 1, 1, 1, 0, 0, 0, 0, 0, 0, 0, 1, 1, 1, 0, 1, 1, 1, 1, 0,\n",
              "        1, 1, 0, 0, 0, 1, 1, 1, 0, 0, 1, 0, 1, 1, 0, 1, 1, 1, 0, 0, 1, 0,\n",
              "        0, 1, 0, 0, 1, 0, 0, 0, 1, 0, 1, 1, 1, 1, 1, 0, 0, 1, 1, 1, 1, 1,\n",
              "        1, 0, 1, 1, 0, 0, 0, 0, 1, 1, 1, 0, 1, 0, 0, 0, 0, 0, 1, 1, 1, 1,\n",
              "        0, 1, 1, 0, 0, 0, 1, 1, 1, 0, 1, 1, 1, 1, 0, 0, 0, 1, 0, 1, 0, 0,\n",
              "        0, 1, 1, 0, 0, 1, 0, 0, 1, 0, 0, 0, 1, 1, 0, 1, 0, 0, 0, 1, 0, 0,\n",
              "        0, 1, 1, 0, 1, 1, 0, 1, 0, 1, 1, 0, 0, 0, 1, 0, 1, 1, 1, 1, 1, 0,\n",
              "        0, 0, 0, 1, 1, 0, 1, 1, 0, 0, 0, 1, 1, 1, 1, 0, 1]))"
            ]
          },
          "metadata": {},
          "execution_count": 45
        }
      ]
    },
    {
      "cell_type": "code",
      "source": [
        "#Calculating Confusion Matrix, Classification report and Accuracy of KNeighborsClassifier Model\n",
        "kcm=confusion_matrix(y_predictions, y_test_array)\n",
        "Kcr= classification_report(y_predictions, y_test_array)\n",
        "knn_accuracy = metrics.f1_score(y_predictions, y_test_array)"
      ],
      "metadata": {
        "id": "zGOClNKUQU0_"
      },
      "execution_count": null,
      "outputs": []
    },
    {
      "cell_type": "code",
      "source": [
        "#Confusion Matrix, Classification report and Accuracy of KNeighborsClassifier Model\n",
        "from sklearn.metrics import classification_report\n",
        "print(\"Confusion Matrix:\", \"\\n\", kcm, \"\\n\")\n",
        "print(\"Classification Report\", \"\\n\", Kcr, \"\\n\")\n",
        "print(\"Accuracy of KNeighbor Classifier Model is: \", knn_accuracy)"
      ],
      "metadata": {
        "colab": {
          "base_uri": "https://localhost:8080/"
        },
        "id": "uXIyvQwXxfk7",
        "outputId": "151bd5c0-f2ad-405b-f64a-4aa484163236"
      },
      "execution_count": null,
      "outputs": [
        {
          "output_type": "stream",
          "name": "stdout",
          "text": [
            "Confusion Matrix: \n",
            " [[ 36   2]\n",
            " [266 307]] \n",
            "\n",
            "Classification Report \n",
            "               precision    recall  f1-score   support\n",
            "\n",
            "           0       0.12      0.95      0.21        38\n",
            "           1       0.99      0.54      0.70       573\n",
            "\n",
            "    accuracy                           0.56       611\n",
            "   macro avg       0.56      0.74      0.45       611\n",
            "weighted avg       0.94      0.56      0.67       611\n",
            " \n",
            "\n",
            "Accuracy of KNeighbor Classifier Model is:  0.6961451247165533\n"
          ]
        }
      ]
    },
    {
      "cell_type": "code",
      "source": [
        "#Confusion Matrix Plot\n",
        "plt.figure(figsize=(9,9))\n",
        "sns.heatmap(kcm, annot=True, fmt=\".0f\", linewidths=.5, square = True, cmap = 'Blues_r')\n",
        "plt.ylabel('ACTUAL')\n",
        "plt.xlabel('PREDICTED')\n",
        "all_sample_title = 'ACCURACY SCORE'.format(accuracy_score)\n",
        "plt.title(all_sample_title, size = 15)"
      ],
      "metadata": {
        "colab": {
          "base_uri": "https://localhost:8080/",
          "height": 538
        },
        "id": "VL3ld265QYEe",
        "outputId": "b26d5606-9372-45bb-9ec7-54a4097ec304"
      },
      "execution_count": null,
      "outputs": [
        {
          "output_type": "execute_result",
          "data": {
            "text/plain": [
              "Text(0.5, 1.0, 'ACCURACY SCORE')"
            ]
          },
          "metadata": {},
          "execution_count": 48
        },
        {
          "output_type": "display_data",
          "data": {
            "image/png": "[encoded data removed]",
            "text/plain": [
              "<Figure size 648x648 with 2 Axes>"
            ]
          },
          "metadata": {
            "needs_background": "light"
          }
        }
      ]
    },
    {
      "cell_type": "code",
      "source": [
        "#Random Forest Model\n",
        "from sklearn.ensemble import RandomForestClassifier\n",
        "rf = RandomForestClassifier(random_state=0)\n",
        "rf.fit(X_train, y_train)\n",
        "rf.score(X_test, y_test)"
      ],
      "metadata": {
        "colab": {
          "base_uri": "https://localhost:8080/"
        },
        "id": "UF9u4oE7YbAK",
        "outputId": "f091ee92-91e0-4b98-a4c1-46c28953d1f2"
      },
      "execution_count": null,
      "outputs": [
        {
          "output_type": "stream",
          "name": "stderr",
          "text": [
            "/usr/local/lib/python3.7/dist-packages/ipykernel_launcher.py:4: DataConversionWarning: A column-vector y was passed when a 1d array was expected. Please change the shape of y to (n_samples,), for example using ravel().\n",
            "  after removing the cwd from sys.path.\n"
          ]
        },
        {
          "output_type": "execute_result",
          "data": {
            "text/plain": [
              "0.9181669394435352"
            ]
          },
          "metadata": {},
          "execution_count": 49
        }
      ]
    },
    {
      "cell_type": "code",
      "source": [
        "#Finding predicted value\n",
        "y_predictions = rf.predict(X_test)\n",
        "y_test_array = np.array(y_test['outcome'])\n",
        "y_predictions, y_test_array"
      ],
      "metadata": {
        "colab": {
          "base_uri": "https://localhost:8080/"
        },
        "id": "BciGZMylZb6q",
        "outputId": "74dd3442-3b3c-4d1e-c357-540f00c31dcf"
      },
      "execution_count": null,
      "outputs": [
        {
          "output_type": "execute_result",
          "data": {
            "text/plain": [
              "(array([0, 1, 0, 1, 0, 0, 1, 1, 1, 0, 0, 0, 1, 1, 0, 0, 1, 1, 0, 1, 0, 1,\n",
              "        1, 0, 1, 1, 1, 0, 1, 0, 1, 0, 0, 1, 1, 0, 0, 0, 0, 1, 1, 0, 0, 0,\n",
              "        0, 1, 1, 0, 0, 1, 0, 1, 0, 1, 0, 0, 1, 1, 1, 0, 0, 1, 0, 1, 0, 1,\n",
              "        0, 1, 0, 1, 0, 1, 0, 1, 1, 0, 1, 1, 1, 1, 0, 0, 0, 1, 1, 1, 1, 0,\n",
              "        1, 1, 1, 0, 1, 0, 1, 1, 1, 1, 1, 0, 1, 1, 0, 0, 1, 1, 0, 1, 0, 1,\n",
              "        1, 1, 0, 1, 0, 0, 0, 1, 1, 0, 1, 1, 0, 0, 1, 0, 0, 1, 0, 1, 1, 1,\n",
              "        0, 1, 0, 1, 0, 0, 1, 1, 1, 0, 1, 0, 1, 1, 1, 1, 1, 1, 0, 1, 0, 1,\n",
              "        1, 0, 0, 0, 1, 1, 0, 0, 0, 0, 1, 0, 1, 0, 0, 1, 1, 1, 1, 0, 0, 0,\n",
              "        0, 0, 0, 0, 1, 0, 1, 1, 0, 1, 0, 0, 0, 1, 0, 1, 1, 1, 1, 1, 1, 1,\n",
              "        0, 0, 1, 1, 1, 1, 0, 0, 1, 0, 0, 0, 1, 0, 0, 1, 0, 0, 0, 1, 0, 1,\n",
              "        0, 0, 0, 0, 0, 1, 1, 1, 1, 1, 0, 1, 0, 1, 1, 1, 0, 0, 0, 0, 0, 1,\n",
              "        1, 1, 0, 1, 1, 1, 1, 1, 1, 1, 1, 1, 1, 1, 1, 0, 1, 0, 0, 0, 1, 1,\n",
              "        1, 1, 0, 1, 0, 0, 0, 0, 1, 1, 1, 0, 1, 1, 0, 1, 0, 0, 0, 0, 0, 1,\n",
              "        0, 0, 0, 1, 1, 1, 0, 0, 1, 1, 0, 1, 1, 0, 1, 0, 0, 0, 1, 0, 0, 0,\n",
              "        0, 1, 1, 1, 1, 0, 1, 0, 1, 0, 1, 1, 1, 0, 1, 1, 1, 0, 0, 1, 0, 0,\n",
              "        1, 0, 0, 0, 1, 0, 1, 0, 1, 0, 1, 1, 0, 0, 0, 1, 1, 0, 1, 0, 0, 0,\n",
              "        0, 0, 1, 0, 1, 1, 0, 0, 1, 0, 0, 1, 1, 0, 0, 1, 1, 0, 0, 0, 0, 1,\n",
              "        1, 1, 0, 0, 0, 1, 1, 1, 1, 0, 1, 1, 1, 0, 1, 0, 1, 0, 1, 1, 0, 1,\n",
              "        1, 0, 0, 0, 1, 1, 1, 1, 1, 1, 1, 1, 0, 1, 1, 1, 1, 1, 1, 0, 0, 0,\n",
              "        1, 0, 0, 0, 0, 1, 0, 0, 0, 0, 0, 0, 1, 1, 1, 0, 1, 1, 0, 0, 1, 0,\n",
              "        0, 0, 0, 0, 1, 1, 0, 1, 0, 0, 0, 0, 0, 1, 1, 1, 0, 1, 1, 1, 1, 0,\n",
              "        1, 1, 0, 1, 0, 1, 1, 1, 0, 0, 1, 0, 1, 1, 0, 1, 1, 1, 0, 0, 1, 0,\n",
              "        0, 1, 1, 0, 1, 0, 0, 0, 1, 0, 1, 1, 1, 1, 1, 0, 0, 1, 1, 1, 0, 1,\n",
              "        1, 0, 1, 1, 0, 0, 0, 0, 1, 1, 1, 0, 1, 0, 0, 0, 0, 0, 0, 1, 1, 1,\n",
              "        0, 1, 1, 0, 0, 0, 1, 1, 1, 1, 1, 1, 1, 1, 0, 0, 0, 0, 0, 1, 0, 0,\n",
              "        0, 1, 0, 0, 0, 1, 0, 0, 1, 0, 0, 0, 1, 1, 1, 1, 0, 0, 0, 1, 0, 1,\n",
              "        0, 1, 1, 0, 1, 0, 0, 1, 0, 1, 1, 0, 0, 1, 1, 0, 1, 1, 1, 1, 1, 0,\n",
              "        0, 0, 0, 1, 1, 0, 1, 1, 0, 0, 0, 1, 1, 0, 1, 0, 1]),\n",
              " array([0, 1, 0, 1, 0, 0, 0, 1, 1, 0, 1, 1, 1, 1, 0, 0, 1, 0, 0, 1, 0, 1,\n",
              "        1, 0, 1, 1, 1, 0, 1, 1, 1, 0, 0, 1, 1, 0, 0, 0, 0, 1, 1, 0, 0, 0,\n",
              "        0, 1, 1, 0, 0, 1, 0, 1, 0, 0, 0, 0, 1, 1, 1, 0, 0, 1, 0, 1, 0, 1,\n",
              "        0, 1, 0, 1, 0, 1, 0, 1, 1, 0, 1, 1, 1, 1, 0, 1, 0, 1, 1, 1, 1, 0,\n",
              "        1, 0, 1, 0, 1, 0, 1, 1, 0, 1, 1, 0, 1, 1, 0, 0, 1, 1, 0, 1, 0, 1,\n",
              "        1, 1, 0, 1, 0, 0, 0, 1, 1, 0, 1, 1, 0, 1, 1, 0, 0, 1, 0, 1, 1, 1,\n",
              "        0, 1, 0, 1, 0, 0, 1, 1, 1, 0, 1, 0, 1, 1, 1, 0, 1, 0, 0, 1, 0, 1,\n",
              "        1, 0, 1, 0, 1, 1, 0, 0, 0, 0, 1, 0, 1, 0, 1, 0, 1, 1, 1, 0, 0, 0,\n",
              "        0, 0, 0, 0, 1, 0, 1, 1, 0, 0, 0, 0, 0, 0, 0, 1, 1, 1, 1, 1, 1, 1,\n",
              "        1, 0, 0, 1, 1, 1, 0, 0, 1, 0, 0, 0, 1, 0, 0, 1, 0, 0, 0, 1, 0, 1,\n",
              "        0, 0, 0, 0, 0, 1, 1, 1, 1, 1, 0, 1, 0, 1, 1, 1, 0, 0, 0, 1, 0, 1,\n",
              "        1, 1, 0, 1, 1, 1, 1, 1, 1, 1, 1, 1, 1, 1, 1, 0, 0, 0, 0, 0, 1, 1,\n",
              "        1, 1, 0, 1, 0, 0, 1, 0, 1, 1, 1, 1, 1, 1, 0, 0, 0, 0, 0, 0, 0, 0,\n",
              "        0, 0, 0, 1, 0, 1, 0, 0, 1, 0, 0, 0, 1, 0, 1, 0, 0, 0, 1, 0, 1, 0,\n",
              "        0, 1, 1, 1, 1, 1, 1, 0, 1, 0, 1, 1, 1, 0, 1, 1, 1, 0, 0, 1, 0, 0,\n",
              "        1, 0, 0, 0, 1, 0, 0, 0, 1, 0, 1, 1, 0, 0, 0, 1, 1, 0, 1, 0, 0, 0,\n",
              "        0, 0, 1, 0, 1, 1, 0, 0, 1, 0, 0, 1, 1, 0, 0, 1, 1, 0, 1, 0, 0, 1,\n",
              "        1, 1, 0, 0, 0, 1, 1, 1, 0, 0, 1, 1, 1, 0, 1, 0, 0, 0, 1, 1, 0, 1,\n",
              "        1, 0, 0, 0, 1, 1, 1, 0, 1, 1, 1, 1, 0, 1, 1, 1, 1, 1, 0, 0, 0, 0,\n",
              "        1, 0, 0, 0, 0, 1, 0, 0, 0, 0, 0, 0, 1, 1, 1, 0, 1, 1, 0, 0, 1, 0,\n",
              "        0, 0, 0, 1, 1, 1, 0, 0, 0, 0, 0, 0, 0, 1, 1, 1, 0, 1, 1, 1, 1, 0,\n",
              "        1, 1, 0, 0, 0, 1, 1, 1, 0, 0, 1, 0, 1, 1, 0, 1, 1, 1, 0, 0, 1, 0,\n",
              "        0, 1, 0, 0, 1, 0, 0, 0, 1, 0, 1, 1, 1, 1, 1, 0, 0, 1, 1, 1, 1, 1,\n",
              "        1, 0, 1, 1, 0, 0, 0, 0, 1, 1, 1, 0, 1, 0, 0, 0, 0, 0, 1, 1, 1, 1,\n",
              "        0, 1, 1, 0, 0, 0, 1, 1, 1, 0, 1, 1, 1, 1, 0, 0, 0, 1, 0, 1, 0, 0,\n",
              "        0, 1, 1, 0, 0, 1, 0, 0, 1, 0, 0, 0, 1, 1, 0, 1, 0, 0, 0, 1, 0, 0,\n",
              "        0, 1, 1, 0, 1, 1, 0, 1, 0, 1, 1, 0, 0, 0, 1, 0, 1, 1, 1, 1, 1, 0,\n",
              "        0, 0, 0, 1, 1, 0, 1, 1, 0, 0, 0, 1, 1, 1, 1, 0, 1]))"
            ]
          },
          "metadata": {},
          "execution_count": 50
        }
      ]
    },
    {
      "cell_type": "code",
      "source": [
        "#Calculating Confusion Matrix, Classification report and Accuracy of Random Forest Model\n",
        "rf=confusion_matrix(y_predictions, y_test_array)\n",
        "rcr= classification_report(y_predictions, y_test_array)\n",
        "rf_accuracy = metrics.f1_score(y_predictions, y_test_array)"
      ],
      "metadata": {
        "id": "EYGyEEVVQlf0"
      },
      "execution_count": null,
      "outputs": []
    },
    {
      "cell_type": "code",
      "source": [
        "#Confusion Matrix, Classification report and Accuracy of Random Forest Model\n",
        "from sklearn.metrics import classification_report\n",
        "print(\"Confusion Matrix:\", \"\\n\", rf, \"\\n\")\n",
        "print(\"Classification Report\", \"\\n\", rcr, \"\\n\")\n",
        "print(\"Accuracy of Random Forest Model is: \", rf_accuracy)"
      ],
      "metadata": {
        "colab": {
          "base_uri": "https://localhost:8080/"
        },
        "id": "iLVTyeG9yu0j",
        "outputId": "88f97ca3-b90f-4236-f73b-d2597b7ae3c3"
      },
      "execution_count": null,
      "outputs": [
        {
          "output_type": "stream",
          "name": "stdout",
          "text": [
            "Confusion Matrix: \n",
            " [[273  21]\n",
            " [ 29 288]] \n",
            "\n",
            "Classification Report \n",
            "               precision    recall  f1-score   support\n",
            "\n",
            "           0       0.90      0.93      0.92       294\n",
            "           1       0.93      0.91      0.92       317\n",
            "\n",
            "    accuracy                           0.92       611\n",
            "   macro avg       0.92      0.92      0.92       611\n",
            "weighted avg       0.92      0.92      0.92       611\n",
            " \n",
            "\n",
            "Accuracy of Random Forest Model is:  0.9201277955271565\n"
          ]
        }
      ]
    },
    {
      "cell_type": "code",
      "source": [
        "#Confusion Matrix Plot\n",
        "plt.figure(figsize=(9,9))\n",
        "sns.heatmap(rf, annot=True, fmt=\".0f\", linewidths=.5, square = True, cmap = 'Blues_r')\n",
        "plt.ylabel('ACTUAL')\n",
        "plt.xlabel('PREDICTED')\n",
        "all_sample_title = 'ACCURACY SCORE'.format(accuracy_score)\n",
        "plt.title(all_sample_title, size = 15)"
      ],
      "metadata": {
        "colab": {
          "base_uri": "https://localhost:8080/",
          "height": 538
        },
        "id": "aDBbWRLiQtsd",
        "outputId": "0858e8ed-ab11-43b1-8c9b-72d8c64cae2a"
      },
      "execution_count": null,
      "outputs": [
        {
          "output_type": "execute_result",
          "data": {
            "text/plain": [
              "Text(0.5, 1.0, 'ACCURACY SCORE')"
            ]
          },
          "metadata": {},
          "execution_count": 53
        },
        {
          "output_type": "display_data",
          "data": {
            "image/png": "[encoded data removed]",
            "text/plain": [
              "<Figure size 648x648 with 2 Axes>"
            ]
          },
          "metadata": {
            "needs_background": "light"
          }
        }
      ]
    },
    {
      "cell_type": "code",
      "source": [
        "#Consolidated Accuracy of all the Model used\n",
        "print(\"Accuracy of Models:\", \"\\n\")\n",
        "print(\"Accuracy of Logistic Regression Model is:\", Log_accuracy)\n",
        "print(\"Accuracy of KNeighbors Classifier Model is:\", knn_accuracy)\n",
        "print(\"Accuracy of Random Forest Classifier Model is:\", rf_accuracy)\n",
        "print(\"Accuracy of XG Boost Classifier Model is:\", xgb_accuracy)\n"
      ],
      "metadata": {
        "colab": {
          "base_uri": "https://localhost:8080/"
        },
        "id": "wrPn4OOMHmAU",
        "outputId": "75616d8c-9910-4b0c-ef01-084cf6f7b75d"
      },
      "execution_count": null,
      "outputs": [
        {
          "output_type": "stream",
          "name": "stdout",
          "text": [
            "Accuracy of Models: \n",
            "\n",
            "Accuracy of Logistic Regression Model is: 0.7001675041876047\n",
            "Accuracy of KNeighbors Classifier Model is: 0.6961451247165533\n",
            "Accuracy of Random Forest Classifier Model is: 0.9201277955271565\n",
            "Accuracy of XG Boost Classifier Model is: 0.8723404255319149\n"
          ]
        }
      ]
    },
    {
      "cell_type": "code",
      "source": [
        "#Comparing all models using a plot\n",
        "from sklearn import model_selection\n",
        "\n",
        "kfold = model_selection.KFold(n_splits=10, random_state=None)\n",
        "\n",
        "\n",
        "# prepare configuration for cross validation test harness\n",
        "seed = 7\n",
        "# prepare models\n",
        "models = []\n",
        "models.append(('LR', LogisticRegression()))\n",
        "models.append(('RF', RandomForestClassifier()))\n",
        "models.append(('KNN', KNeighborsClassifier()))\n",
        "models.append(('XGBoost', XGBClassifier()))\n",
        "\n",
        "# evaluate each model in turn\n",
        "results = []\n",
        "names = []\n",
        "scoring = 'f1'\n",
        "for name, model in models:\n",
        "         kfold = model_selection.KFold(n_splits=10, random_state=None)\n",
        "         cv_results = model_selection.cross_val_score(model, X_train, y_train, cv=kfold, scoring=scoring)\n",
        "         results.append(cv_results)\n",
        "         names.append(name)\n",
        "         msg = \"%s: %f (%f)\" % (name, cv_results.mean(), cv_results.std())\n",
        "         print(msg)\n",
        "# boxplot algorithm comparison\n",
        "fig = plt.figure()\n",
        "fig.suptitle('Algorithm Comparison')\n",
        "ax = fig.add_subplot(111)\n",
        "plt.boxplot(results)\n",
        "ax.set_xticklabels(names)\n",
        "plt.show()"
      ],
      "metadata": {
        "colab": {
          "base_uri": "https://localhost:8080/",
          "height": 1000
        },
        "id": "qOcVdXiG_xlZ",
        "outputId": "a2c6fb68-67b8-4482-f028-71f2e3d98790"
      },
      "execution_count": null,
      "outputs": [
        {
          "output_type": "stream",
          "name": "stderr",
          "text": [
            "/usr/local/lib/python3.7/dist-packages/sklearn/utils/validation.py:993: DataConversionWarning: A column-vector y was passed when a 1d array was expected. Please change the shape of y to (n_samples, ), for example using ravel().\n",
            "  y = column_or_1d(y, warn=True)\n",
            "/usr/local/lib/python3.7/dist-packages/sklearn/utils/validation.py:993: DataConversionWarning: A column-vector y was passed when a 1d array was expected. Please change the shape of y to (n_samples, ), for example using ravel().\n",
            "  y = column_or_1d(y, warn=True)\n",
            "/usr/local/lib/python3.7/dist-packages/sklearn/utils/validation.py:993: DataConversionWarning: A column-vector y was passed when a 1d array was expected. Please change the shape of y to (n_samples, ), for example using ravel().\n",
            "  y = column_or_1d(y, warn=True)\n",
            "/usr/local/lib/python3.7/dist-packages/sklearn/utils/validation.py:993: DataConversionWarning: A column-vector y was passed when a 1d array was expected. Please change the shape of y to (n_samples, ), for example using ravel().\n",
            "  y = column_or_1d(y, warn=True)\n",
            "/usr/local/lib/python3.7/dist-packages/sklearn/utils/validation.py:993: DataConversionWarning: A column-vector y was passed when a 1d array was expected. Please change the shape of y to (n_samples, ), for example using ravel().\n",
            "  y = column_or_1d(y, warn=True)\n",
            "/usr/local/lib/python3.7/dist-packages/sklearn/utils/validation.py:993: DataConversionWarning: A column-vector y was passed when a 1d array was expected. Please change the shape of y to (n_samples, ), for example using ravel().\n",
            "  y = column_or_1d(y, warn=True)\n",
            "/usr/local/lib/python3.7/dist-packages/sklearn/utils/validation.py:993: DataConversionWarning: A column-vector y was passed when a 1d array was expected. Please change the shape of y to (n_samples, ), for example using ravel().\n",
            "  y = column_or_1d(y, warn=True)\n",
            "/usr/local/lib/python3.7/dist-packages/sklearn/utils/validation.py:993: DataConversionWarning: A column-vector y was passed when a 1d array was expected. Please change the shape of y to (n_samples, ), for example using ravel().\n",
            "  y = column_or_1d(y, warn=True)\n",
            "/usr/local/lib/python3.7/dist-packages/sklearn/utils/validation.py:993: DataConversionWarning: A column-vector y was passed when a 1d array was expected. Please change the shape of y to (n_samples, ), for example using ravel().\n",
            "  y = column_or_1d(y, warn=True)\n",
            "/usr/local/lib/python3.7/dist-packages/sklearn/utils/validation.py:993: DataConversionWarning: A column-vector y was passed when a 1d array was expected. Please change the shape of y to (n_samples, ), for example using ravel().\n",
            "  y = column_or_1d(y, warn=True)\n",
            "/usr/local/lib/python3.7/dist-packages/sklearn/model_selection/_validation.py:680: DataConversionWarning: A column-vector y was passed when a 1d array was expected. Please change the shape of y to (n_samples,), for example using ravel().\n",
            "  estimator.fit(X_train, y_train, **fit_params)\n"
          ]
        },
        {
          "output_type": "stream",
          "name": "stdout",
          "text": [
            "LR: 0.692236 (0.036702)\n"
          ]
        },
        {
          "output_type": "stream",
          "name": "stderr",
          "text": [
            "/usr/local/lib/python3.7/dist-packages/sklearn/model_selection/_validation.py:680: DataConversionWarning: A column-vector y was passed when a 1d array was expected. Please change the shape of y to (n_samples,), for example using ravel().\n",
            "  estimator.fit(X_train, y_train, **fit_params)\n",
            "/usr/local/lib/python3.7/dist-packages/sklearn/model_selection/_validation.py:680: DataConversionWarning: A column-vector y was passed when a 1d array was expected. Please change the shape of y to (n_samples,), for example using ravel().\n",
            "  estimator.fit(X_train, y_train, **fit_params)\n",
            "/usr/local/lib/python3.7/dist-packages/sklearn/model_selection/_validation.py:680: DataConversionWarning: A column-vector y was passed when a 1d array was expected. Please change the shape of y to (n_samples,), for example using ravel().\n",
            "  estimator.fit(X_train, y_train, **fit_params)\n",
            "/usr/local/lib/python3.7/dist-packages/sklearn/model_selection/_validation.py:680: DataConversionWarning: A column-vector y was passed when a 1d array was expected. Please change the shape of y to (n_samples,), for example using ravel().\n",
            "  estimator.fit(X_train, y_train, **fit_params)\n",
            "/usr/local/lib/python3.7/dist-packages/sklearn/model_selection/_validation.py:680: DataConversionWarning: A column-vector y was passed when a 1d array was expected. Please change the shape of y to (n_samples,), for example using ravel().\n",
            "  estimator.fit(X_train, y_train, **fit_params)\n",
            "/usr/local/lib/python3.7/dist-packages/sklearn/model_selection/_validation.py:680: DataConversionWarning: A column-vector y was passed when a 1d array was expected. Please change the shape of y to (n_samples,), for example using ravel().\n",
            "  estimator.fit(X_train, y_train, **fit_params)\n",
            "/usr/local/lib/python3.7/dist-packages/sklearn/model_selection/_validation.py:680: DataConversionWarning: A column-vector y was passed when a 1d array was expected. Please change the shape of y to (n_samples,), for example using ravel().\n",
            "  estimator.fit(X_train, y_train, **fit_params)\n",
            "/usr/local/lib/python3.7/dist-packages/sklearn/model_selection/_validation.py:680: DataConversionWarning: A column-vector y was passed when a 1d array was expected. Please change the shape of y to (n_samples,), for example using ravel().\n",
            "  estimator.fit(X_train, y_train, **fit_params)\n",
            "/usr/local/lib/python3.7/dist-packages/sklearn/model_selection/_validation.py:680: DataConversionWarning: A column-vector y was passed when a 1d array was expected. Please change the shape of y to (n_samples,), for example using ravel().\n",
            "  estimator.fit(X_train, y_train, **fit_params)\n"
          ]
        },
        {
          "output_type": "stream",
          "name": "stdout",
          "text": [
            "RF: 0.877316 (0.031578)\n"
          ]
        },
        {
          "output_type": "stream",
          "name": "stderr",
          "text": [
            "/usr/local/lib/python3.7/dist-packages/sklearn/neighbors/_classification.py:198: DataConversionWarning: A column-vector y was passed when a 1d array was expected. Please change the shape of y to (n_samples,), for example using ravel().\n",
            "  return self._fit(X, y)\n",
            "/usr/local/lib/python3.7/dist-packages/sklearn/neighbors/_classification.py:198: DataConversionWarning: A column-vector y was passed when a 1d array was expected. Please change the shape of y to (n_samples,), for example using ravel().\n",
            "  return self._fit(X, y)\n",
            "/usr/local/lib/python3.7/dist-packages/sklearn/neighbors/_classification.py:198: DataConversionWarning: A column-vector y was passed when a 1d array was expected. Please change the shape of y to (n_samples,), for example using ravel().\n",
            "  return self._fit(X, y)\n",
            "/usr/local/lib/python3.7/dist-packages/sklearn/neighbors/_classification.py:198: DataConversionWarning: A column-vector y was passed when a 1d array was expected. Please change the shape of y to (n_samples,), for example using ravel().\n",
            "  return self._fit(X, y)\n",
            "/usr/local/lib/python3.7/dist-packages/sklearn/neighbors/_classification.py:198: DataConversionWarning: A column-vector y was passed when a 1d array was expected. Please change the shape of y to (n_samples,), for example using ravel().\n",
            "  return self._fit(X, y)\n",
            "/usr/local/lib/python3.7/dist-packages/sklearn/neighbors/_classification.py:198: DataConversionWarning: A column-vector y was passed when a 1d array was expected. Please change the shape of y to (n_samples,), for example using ravel().\n",
            "  return self._fit(X, y)\n",
            "/usr/local/lib/python3.7/dist-packages/sklearn/neighbors/_classification.py:198: DataConversionWarning: A column-vector y was passed when a 1d array was expected. Please change the shape of y to (n_samples,), for example using ravel().\n",
            "  return self._fit(X, y)\n",
            "/usr/local/lib/python3.7/dist-packages/sklearn/neighbors/_classification.py:198: DataConversionWarning: A column-vector y was passed when a 1d array was expected. Please change the shape of y to (n_samples,), for example using ravel().\n",
            "  return self._fit(X, y)\n",
            "/usr/local/lib/python3.7/dist-packages/sklearn/neighbors/_classification.py:198: DataConversionWarning: A column-vector y was passed when a 1d array was expected. Please change the shape of y to (n_samples,), for example using ravel().\n",
            "  return self._fit(X, y)\n",
            "/usr/local/lib/python3.7/dist-packages/sklearn/neighbors/_classification.py:198: DataConversionWarning: A column-vector y was passed when a 1d array was expected. Please change the shape of y to (n_samples,), for example using ravel().\n",
            "  return self._fit(X, y)\n"
          ]
        },
        {
          "output_type": "stream",
          "name": "stdout",
          "text": [
            "KNN: 0.720033 (0.038157)\n"
          ]
        },
        {
          "output_type": "stream",
          "name": "stderr",
          "text": [
            "/usr/local/lib/python3.7/dist-packages/sklearn/preprocessing/_label.py:98: DataConversionWarning: A column-vector y was passed when a 1d array was expected. Please change the shape of y to (n_samples, ), for example using ravel().\n",
            "  y = column_or_1d(y, warn=True)\n",
            "/usr/local/lib/python3.7/dist-packages/sklearn/preprocessing/_label.py:133: DataConversionWarning: A column-vector y was passed when a 1d array was expected. Please change the shape of y to (n_samples, ), for example using ravel().\n",
            "  y = column_or_1d(y, warn=True)\n",
            "/usr/local/lib/python3.7/dist-packages/sklearn/preprocessing/_label.py:98: DataConversionWarning: A column-vector y was passed when a 1d array was expected. Please change the shape of y to (n_samples, ), for example using ravel().\n",
            "  y = column_or_1d(y, warn=True)\n",
            "/usr/local/lib/python3.7/dist-packages/sklearn/preprocessing/_label.py:133: DataConversionWarning: A column-vector y was passed when a 1d array was expected. Please change the shape of y to (n_samples, ), for example using ravel().\n",
            "  y = column_or_1d(y, warn=True)\n",
            "/usr/local/lib/python3.7/dist-packages/sklearn/preprocessing/_label.py:98: DataConversionWarning: A column-vector y was passed when a 1d array was expected. Please change the shape of y to (n_samples, ), for example using ravel().\n",
            "  y = column_or_1d(y, warn=True)\n",
            "/usr/local/lib/python3.7/dist-packages/sklearn/preprocessing/_label.py:133: DataConversionWarning: A column-vector y was passed when a 1d array was expected. Please change the shape of y to (n_samples, ), for example using ravel().\n",
            "  y = column_or_1d(y, warn=True)\n",
            "/usr/local/lib/python3.7/dist-packages/sklearn/preprocessing/_label.py:98: DataConversionWarning: A column-vector y was passed when a 1d array was expected. Please change the shape of y to (n_samples, ), for example using ravel().\n",
            "  y = column_or_1d(y, warn=True)\n",
            "/usr/local/lib/python3.7/dist-packages/sklearn/preprocessing/_label.py:133: DataConversionWarning: A column-vector y was passed when a 1d array was expected. Please change the shape of y to (n_samples, ), for example using ravel().\n",
            "  y = column_or_1d(y, warn=True)\n",
            "/usr/local/lib/python3.7/dist-packages/sklearn/preprocessing/_label.py:98: DataConversionWarning: A column-vector y was passed when a 1d array was expected. Please change the shape of y to (n_samples, ), for example using ravel().\n",
            "  y = column_or_1d(y, warn=True)\n",
            "/usr/local/lib/python3.7/dist-packages/sklearn/preprocessing/_label.py:133: DataConversionWarning: A column-vector y was passed when a 1d array was expected. Please change the shape of y to (n_samples, ), for example using ravel().\n",
            "  y = column_or_1d(y, warn=True)\n",
            "/usr/local/lib/python3.7/dist-packages/sklearn/preprocessing/_label.py:98: DataConversionWarning: A column-vector y was passed when a 1d array was expected. Please change the shape of y to (n_samples, ), for example using ravel().\n",
            "  y = column_or_1d(y, warn=True)\n",
            "/usr/local/lib/python3.7/dist-packages/sklearn/preprocessing/_label.py:133: DataConversionWarning: A column-vector y was passed when a 1d array was expected. Please change the shape of y to (n_samples, ), for example using ravel().\n",
            "  y = column_or_1d(y, warn=True)\n",
            "/usr/local/lib/python3.7/dist-packages/sklearn/preprocessing/_label.py:98: DataConversionWarning: A column-vector y was passed when a 1d array was expected. Please change the shape of y to (n_samples, ), for example using ravel().\n",
            "  y = column_or_1d(y, warn=True)\n",
            "/usr/local/lib/python3.7/dist-packages/sklearn/preprocessing/_label.py:133: DataConversionWarning: A column-vector y was passed when a 1d array was expected. Please change the shape of y to (n_samples, ), for example using ravel().\n",
            "  y = column_or_1d(y, warn=True)\n",
            "/usr/local/lib/python3.7/dist-packages/sklearn/preprocessing/_label.py:98: DataConversionWarning: A column-vector y was passed when a 1d array was expected. Please change the shape of y to (n_samples, ), for example using ravel().\n",
            "  y = column_or_1d(y, warn=True)\n",
            "/usr/local/lib/python3.7/dist-packages/sklearn/preprocessing/_label.py:133: DataConversionWarning: A column-vector y was passed when a 1d array was expected. Please change the shape of y to (n_samples, ), for example using ravel().\n",
            "  y = column_or_1d(y, warn=True)\n",
            "/usr/local/lib/python3.7/dist-packages/sklearn/preprocessing/_label.py:98: DataConversionWarning: A column-vector y was passed when a 1d array was expected. Please change the shape of y to (n_samples, ), for example using ravel().\n",
            "  y = column_or_1d(y, warn=True)\n",
            "/usr/local/lib/python3.7/dist-packages/sklearn/preprocessing/_label.py:133: DataConversionWarning: A column-vector y was passed when a 1d array was expected. Please change the shape of y to (n_samples, ), for example using ravel().\n",
            "  y = column_or_1d(y, warn=True)\n",
            "/usr/local/lib/python3.7/dist-packages/sklearn/preprocessing/_label.py:98: DataConversionWarning: A column-vector y was passed when a 1d array was expected. Please change the shape of y to (n_samples, ), for example using ravel().\n",
            "  y = column_or_1d(y, warn=True)\n",
            "/usr/local/lib/python3.7/dist-packages/sklearn/preprocessing/_label.py:133: DataConversionWarning: A column-vector y was passed when a 1d array was expected. Please change the shape of y to (n_samples, ), for example using ravel().\n",
            "  y = column_or_1d(y, warn=True)\n"
          ]
        },
        {
          "output_type": "stream",
          "name": "stdout",
          "text": [
            "XGBoost: 0.857151 (0.032815)\n"
          ]
        },
        {
          "output_type": "display_data",
          "data": {
            "image/png": "[encoded data removed]",
            "text/plain": [
              "<Figure size 864x432 with 1 Axes>"
            ]
          },
          "metadata": {
            "needs_background": "light"
          }
        }
      ]
    }
  ]
}